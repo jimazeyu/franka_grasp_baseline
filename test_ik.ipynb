{
 "cells": [
  {
   "cell_type": "code",
   "execution_count": 51,
   "metadata": {},
   "outputs": [],
   "source": [
    "import panda_py\n",
    "from panda_py import constants"
   ]
  },
  {
   "cell_type": "code",
   "execution_count": 52,
   "metadata": {},
   "outputs": [],
   "source": [
    "from panda_py import constants\n",
    "start_pose = panda_py.fk(constants.JOINT_POSITION_START)"
   ]
  },
  {
   "cell_type": "code",
   "execution_count": 105,
   "metadata": {},
   "outputs": [
    {
     "name": "stdout",
     "output_type": "stream",
     "text": [
      "[[ 1.00000000e+00  6.12323400e-17 -6.12323400e-17  4.00000000e-01]\n",
      " [ 6.12323400e-17 -1.00000000e+00  0.00000000e+00  0.00000000e+00]\n",
      " [-1.11022302e-16  0.00000000e+00 -1.00000000e+00  1.00000000e-01]\n",
      " [ 0.00000000e+00  0.00000000e+00  0.00000000e+00  1.00000000e+00]]\n"
     ]
    }
   ],
   "source": [
    "pose =  start_pose.copy()\n",
    "pose[0,3] = 0.4\n",
    "pose[1,3] = 0.0\n",
    "pose[2,3] = 0.1\n",
    "print(pose)"
   ]
  },
  {
   "cell_type": "code",
   "execution_count": 106,
   "metadata": {},
   "outputs": [
    {
     "data": {
      "text/plain": [
       "array([nan, nan, nan, nan, nan, nan, nan])"
      ]
     },
     "execution_count": 106,
     "metadata": {},
     "output_type": "execute_result"
    }
   ],
   "source": [
    "panda_py.ik(pose)"
   ]
  },
  {
   "cell_type": "code",
   "execution_count": 52,
   "metadata": {},
   "outputs": [
    {
     "data": {
      "text/plain": [
       "array([[ 1.00000000e+00,  6.12323400e-17, -6.12323400e-17],\n",
       "       [ 6.12323400e-17, -1.00000000e+00,  0.00000000e+00],\n",
       "       [-1.11022302e-16,  0.00000000e+00, -1.00000000e+00]])"
      ]
     },
     "execution_count": 52,
     "metadata": {},
     "output_type": "execute_result"
    }
   ],
   "source": [
    "start_pose[:3,:3]"
   ]
  },
  {
   "cell_type": "code",
   "execution_count": 53,
   "metadata": {},
   "outputs": [
    {
     "data": {
      "text/plain": [
       "array([0.30689057, 0.        , 0.48728205])"
      ]
     },
     "execution_count": 53,
     "metadata": {},
     "output_type": "execute_result"
    }
   ],
   "source": [
    "start_pose[:3,3]"
   ]
  },
  {
   "cell_type": "markdown",
   "metadata": {},
   "source": [
    "# rtb"
   ]
  },
  {
   "cell_type": "code",
   "execution_count": 1,
   "metadata": {},
   "outputs": [],
   "source": [
    "import roboticstoolbox as rtb"
   ]
  },
  {
   "cell_type": "code",
   "execution_count": 2,
   "metadata": {},
   "outputs": [
    {
     "name": "stdout",
     "output_type": "stream",
     "text": [
      "ERobot: panda (by Franka Emika), 7 joints (RRRRRRR), 1 gripper, geometry, collision\n",
      "┌─────┬──────────────┬───────┬─────────────┬────────────────────────────────────────────────┐\n",
      "│link │     link     │ joint │   parent    │              ETS: parent to link               │\n",
      "├─────┼──────────────┼───────┼─────────────┼────────────────────────────────────────────────┤\n",
      "│   0\u001b[0m │ \u001b[38;5;4mpanda_link0\u001b[0m  │      \u001b[0m │ BASE\u001b[0m        │ SE3()\u001b[0m                                          │\n",
      "│   1\u001b[0m │ panda_link1\u001b[0m  │     0\u001b[0m │ panda_link0\u001b[0m │ SE3(0, 0, 0.333) ⊕ Rz(q0)\u001b[0m                      │\n",
      "│   2\u001b[0m │ panda_link2\u001b[0m  │     1\u001b[0m │ panda_link1\u001b[0m │ SE3(-90°, -0°, 0°) ⊕ Rz(q1)\u001b[0m                    │\n",
      "│   3\u001b[0m │ panda_link3\u001b[0m  │     2\u001b[0m │ panda_link2\u001b[0m │ SE3(0, -0.316, 0; 90°, -0°, 0°) ⊕ Rz(q2)\u001b[0m       │\n",
      "│   4\u001b[0m │ panda_link4\u001b[0m  │     3\u001b[0m │ panda_link3\u001b[0m │ SE3(0.0825, 0, 0; 90°, -0°, 0°) ⊕ Rz(q3)\u001b[0m       │\n",
      "│   5\u001b[0m │ panda_link5\u001b[0m  │     4\u001b[0m │ panda_link4\u001b[0m │ SE3(-0.0825, 0.384, 0; -90°, -0°, 0°) ⊕ Rz(q4)\u001b[0m │\n",
      "│   6\u001b[0m │ panda_link6\u001b[0m  │     5\u001b[0m │ panda_link5\u001b[0m │ SE3(90°, -0°, 0°) ⊕ Rz(q5)\u001b[0m                     │\n",
      "│   7\u001b[0m │ panda_link7\u001b[0m  │     6\u001b[0m │ panda_link6\u001b[0m │ SE3(0.088, 0, 0; 90°, -0°, 0°) ⊕ Rz(q6)\u001b[0m        │\n",
      "│   8\u001b[0m │ \u001b[38;5;4m@panda_link8\u001b[0m │      \u001b[0m │ panda_link7\u001b[0m │ SE3(0, 0, 0.107)\u001b[0m                               │\n",
      "└─────┴──────────────┴───────┴─────────────┴────────────────────────────────────────────────┘\n",
      "\n",
      "┌─────┬─────┬────────┬─────┬───────┬─────┬───────┬──────┐\n",
      "│name │ q0  │ q1     │ q2  │ q3    │ q4  │ q5    │ q6   │\n",
      "├─────┼─────┼────────┼─────┼───────┼─────┼───────┼──────┤\n",
      "│  qr\u001b[0m │  0°\u001b[0m │ -17.2°\u001b[0m │  0°\u001b[0m │ -126°\u001b[0m │  0°\u001b[0m │  115°\u001b[0m │  45°\u001b[0m │\n",
      "│  qz\u001b[0m │  0°\u001b[0m │  0°\u001b[0m    │  0°\u001b[0m │  0°\u001b[0m   │  0°\u001b[0m │  0°\u001b[0m   │  0°\u001b[0m  │\n",
      "└─────┴─────┴────────┴─────┴───────┴─────┴───────┴──────┘\n",
      "\n"
     ]
    }
   ],
   "source": [
    "robot = rtb.models.Panda()\n",
    "print(robot)"
   ]
  },
  {
   "cell_type": "code",
   "execution_count": 3,
   "metadata": {},
   "outputs": [
    {
     "name": "stdout",
     "output_type": "stream",
     "text": [
      "  \u001b[38;5;1m 0.995   \u001b[0m \u001b[38;5;1m 0       \u001b[0m \u001b[38;5;1m 0.09983 \u001b[0m \u001b[38;5;4m 0.484   \u001b[0m  \u001b[0m\n",
      "  \u001b[38;5;1m 0       \u001b[0m \u001b[38;5;1m-1       \u001b[0m \u001b[38;5;1m 0       \u001b[0m \u001b[38;5;4m 0       \u001b[0m  \u001b[0m\n",
      "  \u001b[38;5;1m 0.09983 \u001b[0m \u001b[38;5;1m 0       \u001b[0m \u001b[38;5;1m-0.995   \u001b[0m \u001b[38;5;4m 0.4126  \u001b[0m  \u001b[0m\n",
      "  \u001b[38;5;244m 0       \u001b[0m \u001b[38;5;244m 0       \u001b[0m \u001b[38;5;244m 0       \u001b[0m \u001b[38;5;244m 1       \u001b[0m  \u001b[0m\n",
      "\n"
     ]
    }
   ],
   "source": [
    "Te = robot.fkine(robot.qr)  # forward kinematics\n",
    "print(Te)"
   ]
  },
  {
   "cell_type": "code",
   "execution_count": 118,
   "metadata": {},
   "outputs": [
    {
     "name": "stdout",
     "output_type": "stream",
     "text": [
      "(array([ 1.89685138,  1.63412392, -1.0794334 , -2.33331373,  0.23309848,\n",
      "        2.05927494,  1.12816698]), 1, 214, 20, 1.1567865218215355e-10)\n"
     ]
    }
   ],
   "source": [
    "from spatialmath import SE3\n",
    "\n",
    "Tep = sm.SE3.Trans(0.4, 0.0, 0.1) * sm.SE3.RPY([np.pi/2, 0, 0])\n",
    "sol = robot.ik_LM(Tep)         # solve IK\n",
    "print(sol)"
   ]
  },
  {
   "cell_type": "code",
   "execution_count": 119,
   "metadata": {},
   "outputs": [
    {
     "name": "stdout",
     "output_type": "stream",
     "text": [
      "  \u001b[38;5;1m 1       \u001b[0m \u001b[38;5;1m-4.776e-06\u001b[0m \u001b[38;5;1m 6.022e-06\u001b[0m \u001b[38;5;4m 0.4     \u001b[0m  \u001b[0m\n",
      "  \u001b[38;5;1m 6.022e-06\u001b[0m \u001b[38;5;1m 9.057e-06\u001b[0m \u001b[38;5;1m-1       \u001b[0m \u001b[38;5;4m-6.06e-06\u001b[0m  \u001b[0m\n",
      "  \u001b[38;5;1m 4.776e-06\u001b[0m \u001b[38;5;1m 1       \u001b[0m \u001b[38;5;1m 9.057e-06\u001b[0m \u001b[38;5;4m 0.1     \u001b[0m  \u001b[0m\n",
      "  \u001b[38;5;244m 0       \u001b[0m \u001b[38;5;244m 0       \u001b[0m \u001b[38;5;244m 0       \u001b[0m \u001b[38;5;244m 1       \u001b[0m  \u001b[0m\n",
      "\n"
     ]
    }
   ],
   "source": [
    "q_pickup = sol[0]\n",
    "print(robot.fkine(q_pickup))    # FK shows that desired end-effector pose was achieved"
   ]
  },
  {
   "cell_type": "code",
   "execution_count": 120,
   "metadata": {},
   "outputs": [
    {
     "data": {
      "image/png": "[encoded data removed]",
      "text/plain": [
       "<Figure size 640x480 with 1 Axes>"
      ]
     },
     "metadata": {},
     "output_type": "display_data"
    },
    {
     "data": {
      "text/plain": [
       "PyPlot3D backend, t = 2.499999999999999, scene:\n",
       "  robot: Text(0.0, 0.0, 'panda')"
      ]
     },
     "execution_count": 120,
     "metadata": {},
     "output_type": "execute_result"
    },
    {
     "data": {
      "text/plain": [
       "<Figure size 640x480 with 0 Axes>"
      ]
     },
     "metadata": {},
     "output_type": "display_data"
    }
   ],
   "source": [
    "qt = rtb.jtraj(robot.qr, q_pickup, 50)\n",
    "robot.plot(qt.q, backend='pyplot', movie='panda1.gif')"
   ]
  },
  {
   "cell_type": "code",
   "execution_count": 8,
   "metadata": {},
   "outputs": [
    {
     "data": {
      "text/plain": [
       "Swift backend, t = 2.499999999999999, scene:\n",
       "  panda"
      ]
     },
     "execution_count": 8,
     "metadata": {},
     "output_type": "execute_result"
    }
   ],
   "source": [
    "robot.plot(qt.q)"
   ]
  },
  {
   "cell_type": "code",
   "execution_count": 117,
   "metadata": {},
   "outputs": [],
   "source": [
    "import swift\n",
    "import roboticstoolbox as rtb\n",
    "import spatialmath as sm\n",
    "import numpy as np\n",
    "\n",
    "env = swift.Swift()\n",
    "env.launch(realtime=True)\n",
    "\n",
    "panda = rtb.models.Panda()\n",
    "panda.q = panda.qr\n",
    "\n",
    "Tep = sm.SE3.Trans(0.4, 0.0, 0.1) * sm.SE3.RPY([np.pi/2, 0, 0])\n",
    "\n",
    "arrived = False\n",
    "env.add(panda)\n",
    "\n",
    "dt = 0.001\n",
    "import time\n",
    "while not arrived:\n",
    "    v, arrived = rtb.p_servo(panda.fkine(panda.q), Tep, 1)\n",
    "    panda.qd = np.linalg.pinv(panda.jacobe(panda.q)) @ v\n",
    "    env.step(dt)\n",
    "\n",
    "# Uncomment to stop the browser tab from closing\n",
    "# env.hold()"
   ]
  },
  {
   "cell_type": "code",
   "execution_count": 73,
   "metadata": {},
   "outputs": [
    {
     "data": {
      "text/plain": [
       "  \u001b[38;5;1m 0.995   \u001b[0m \u001b[38;5;1m 0       \u001b[0m \u001b[38;5;1m 0.09983 \u001b[0m \u001b[38;5;4m 0.3648  \u001b[0m  \u001b[0m\n",
       "  \u001b[38;5;1m 0       \u001b[0m \u001b[38;5;1m-1       \u001b[0m \u001b[38;5;1m 0       \u001b[0m \u001b[38;5;4m 0       \u001b[0m  \u001b[0m\n",
       "  \u001b[38;5;1m 0.09983 \u001b[0m \u001b[38;5;1m 0       \u001b[0m \u001b[38;5;1m-0.995   \u001b[0m \u001b[38;5;4m-0.1018  \u001b[0m  \u001b[0m\n",
       "  \u001b[38;5;244m 0       \u001b[0m \u001b[38;5;244m 0       \u001b[0m \u001b[38;5;244m 0       \u001b[0m \u001b[38;5;244m 1       \u001b[0m  \u001b[0m\n"
      ]
     },
     "execution_count": 73,
     "metadata": {},
     "output_type": "execute_result"
    }
   ],
   "source": [
    "Tep[0]"
   ]
  },
  {
   "cell_type": "code",
   "execution_count": 115,
   "metadata": {},
   "outputs": [
    {
     "data": {
      "text/plain": [
       "  \u001b[38;5;1m 1       \u001b[0m \u001b[38;5;1m 0       \u001b[0m \u001b[38;5;1m 0       \u001b[0m \u001b[38;5;4m 0.4     \u001b[0m  \u001b[0m\n",
       "  \u001b[38;5;1m 0       \u001b[0m \u001b[38;5;1m 0       \u001b[0m \u001b[38;5;1m-1       \u001b[0m \u001b[38;5;4m 0       \u001b[0m  \u001b[0m\n",
       "  \u001b[38;5;1m 0       \u001b[0m \u001b[38;5;1m 1       \u001b[0m \u001b[38;5;1m 0       \u001b[0m \u001b[38;5;4m 0.1     \u001b[0m  \u001b[0m\n",
       "  \u001b[38;5;244m 0       \u001b[0m \u001b[38;5;244m 0       \u001b[0m \u001b[38;5;244m 0       \u001b[0m \u001b[38;5;244m 1       \u001b[0m  \u001b[0m\n"
      ]
     },
     "execution_count": 115,
     "metadata": {},
     "output_type": "execute_result"
    }
   ],
   "source": [
    "sm.SE3.Trans(0.4, 0.0, 0.1) * sm.SE3.RPY([np.pi/2, 0, 0])"
   ]
  },
  {
   "cell_type": "code",
   "execution_count": 90,
   "metadata": {},
   "outputs": [
    {
     "data": {
      "text/plain": [
       "  \u001b[38;5;1m 0.995   \u001b[0m \u001b[38;5;1m 0       \u001b[0m \u001b[38;5;1m 0.09983 \u001b[0m \u001b[38;5;4m 0.4245  \u001b[0m  \u001b[0m\n",
       "  \u001b[38;5;1m 0       \u001b[0m \u001b[38;5;1m-1       \u001b[0m \u001b[38;5;1m 0       \u001b[0m \u001b[38;5;4m 0       \u001b[0m  \u001b[0m\n",
       "  \u001b[38;5;1m 0.09983 \u001b[0m \u001b[38;5;1m 0       \u001b[0m \u001b[38;5;1m-0.995   \u001b[0m \u001b[38;5;4m 0.004645\u001b[0m  \u001b[0m\n",
       "  \u001b[38;5;244m 0       \u001b[0m \u001b[38;5;244m 0       \u001b[0m \u001b[38;5;244m 0       \u001b[0m \u001b[38;5;244m 1       \u001b[0m  \u001b[0m\n"
      ]
     },
     "execution_count": 90,
     "metadata": {},
     "output_type": "execute_result"
    }
   ],
   "source": [
    "panda.fkine(panda.qr) * sm.SE3.Trans(-0.1, 0.0, 0.4)"
   ]
  },
  {
   "cell_type": "code",
   "execution_count": 102,
   "metadata": {},
   "outputs": [
    {
     "data": {
      "text/plain": [
       "  \u001b[38;5;1m 1       \u001b[0m \u001b[38;5;1m 0       \u001b[0m \u001b[38;5;1m 0       \u001b[0m \u001b[38;5;4m 0       \u001b[0m  \u001b[0m\n",
       "  \u001b[38;5;1m 0       \u001b[0m \u001b[38;5;1m-1       \u001b[0m \u001b[38;5;1m 0       \u001b[0m \u001b[38;5;4m 0       \u001b[0m  \u001b[0m\n",
       "  \u001b[38;5;1m 0       \u001b[0m \u001b[38;5;1m 0       \u001b[0m \u001b[38;5;1m-1       \u001b[0m \u001b[38;5;4m 0       \u001b[0m  \u001b[0m\n",
       "  \u001b[38;5;244m 0       \u001b[0m \u001b[38;5;244m 0       \u001b[0m \u001b[38;5;244m 0       \u001b[0m \u001b[38;5;244m 1       \u001b[0m  \u001b[0m\n"
      ]
     },
     "execution_count": 102,
     "metadata": {},
     "output_type": "execute_result"
    }
   ],
   "source": [
    "sm.SE3.RPY([np.pi, 0, 0])"
   ]
  },
  {
   "cell_type": "code",
   "execution_count": 81,
   "metadata": {},
   "outputs": [],
   "source": [
    "x= panda.fkine(panda.qr)"
   ]
  },
  {
   "cell_type": "code",
   "execution_count": 85,
   "metadata": {},
   "outputs": [
    {
     "ename": "AttributeError",
     "evalue": "can't set attribute",
     "output_type": "error",
     "traceback": [
      "\u001b[0;31m---------------------------------------------------------------------------\u001b[0m",
      "\u001b[0;31mAttributeError\u001b[0m                            Traceback (most recent call last)",
      "Cell \u001b[0;32mIn[85], line 1\u001b[0m\n\u001b[0;32m----> 1\u001b[0m \u001b[43mx\u001b[49m\u001b[38;5;241;43m.\u001b[39;49m\u001b[43mR\u001b[49m \u001b[38;5;241m=\u001b[39m sm\u001b[38;5;241m.\u001b[39mSO3\u001b[38;5;241m.\u001b[39mRx(\u001b[38;5;241m0.1\u001b[39m)\n",
      "\u001b[0;31mAttributeError\u001b[0m: can't set attribute"
     ]
    }
   ],
   "source": [
    "x."
   ]
  },
  {
   "cell_type": "code",
   "execution_count": null,
   "metadata": {},
   "outputs": [],
   "source": []
  }
 ],
 "metadata": {
  "kernelspec": {
   "display_name": "python38",
   "language": "python",
   "name": "python3"
  },
  "language_info": {
   "codemirror_mode": {
    "name": "ipython",
    "version": 3
   },
   "file_extension": ".py",
   "mimetype": "text/x-python",
   "name": "python",
   "nbconvert_exporter": "python",
   "pygments_lexer": "ipython3",
   "version": "3.8.18"
  }
 },
 "nbformat": 4,
 "nbformat_minor": 2
}
