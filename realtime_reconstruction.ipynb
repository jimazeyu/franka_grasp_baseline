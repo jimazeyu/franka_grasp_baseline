{
 "cells": [
  {
   "cell_type": "code",
   "execution_count": 17,
   "metadata": {},
   "outputs": [],
   "source": [
    "import pyrealsense2 as rs\n",
    "import numpy as np\n",
    "import matplotlib.pyplot as plt\n",
    "import os\n",
    "import open3d as o3d"
   ]
  },
  {
   "cell_type": "code",
   "execution_count": 18,
   "metadata": {},
   "outputs": [
    {
     "name": "stdout",
     "output_type": "stream",
     "text": [
      "Selected device serial numbers: ['233522072900']\n"
     ]
    }
   ],
   "source": [
    "# Enumerate connected RealSense cameras\n",
    "ctx = rs.context()\n",
    "devices = ctx.query_devices()\n",
    "device_serials = [device.get_info(rs.camera_info.serial_number) for device in devices]\n",
    "device_serials.sort()\n",
    "\n",
    "# Print selected device serial numbers\n",
    "print(\"Selected device serial numbers:\", device_serials)\n",
    "\n",
    "# Create a pipeline for each camera\n",
    "pipelines = []\n",
    "profiles = []\n",
    "align = rs.align(rs.stream.color)\n",
    "\n",
    "# Initialize RealSense pipeline for each camera\n",
    "for idx, serial in enumerate(device_serials):\n",
    "    pipeline = rs.pipeline()\n",
    "    config = rs.config()\n",
    "    config.enable_device(serial)\n",
    "    config.enable_stream(rs.stream.color, 1920, 1080, rs.format.rgb8, 30)\n",
    "    config.enable_stream(rs.stream.depth, 1280, 720, rs.format.z16, 30)\n",
    "    profile = pipeline.start(config)\n",
    "    profiles.append(profile)\n",
    "    pipelines.append(pipeline)"
   ]
  },
  {
   "cell_type": "code",
   "execution_count": 19,
   "metadata": {},
   "outputs": [],
   "source": [
    "def convert_rs_frames_to_pointcloud(rs_frames, pinhole_camera_intrinsic, extrinsic):\n",
    "    aligned_frames = align.process(rs_frames)\n",
    "    rs_depth_frame = aligned_frames.get_depth_frame()\n",
    "    np_depth = np.asanyarray(rs_depth_frame.get_data())\n",
    "    o3d_depth = o3d.geometry.Image(np_depth)\n",
    "\n",
    "    rs_color_frame = aligned_frames.get_color_frame()\n",
    "    np_color = np.asanyarray(rs_color_frame.get_data())\n",
    "    o3d_color = o3d.geometry.Image(np_color)\n",
    "\n",
    "    rgbd = o3d.geometry.RGBDImage.create_from_color_and_depth(\n",
    "        o3d_color, o3d_depth, depth_scale=1000.0, convert_rgb_to_intensity=False)\n",
    "\n",
    "    pcd = o3d.geometry.PointCloud.create_from_rgbd_image(\n",
    "        rgbd, pinhole_camera_intrinsic, extrinsic)\n",
    "\n",
    "    return pcd\n"
   ]
  },
  {
   "cell_type": "code",
   "execution_count": 20,
   "metadata": {},
   "outputs": [],
   "source": [
    "cam_2_optical = [[1, 0, 0, 0], [0, -1, 0, 0], [0, 0, -1, 0], [0, 0, 0, 1]]\n",
    "\n",
    "extrinsic2 = np.eye(4)\n",
    "\n",
    "extrinsic1 = np.array([[-0.98792383, -0.0497825, 0.14672493, -0.00776776],\n",
    "                        [0.1269471, -0.80299654, 0.58230662, -0.63564131],\n",
    "                        [0.08883093, 0.59390089, 0.79961916, 0.74647112],\n",
    "                        [0, 0, 0, 1]])\n",
    "\n",
    "extrinsics = [extrinsic2@cam_2_optical, extrinsic1@cam_2_optical]"
   ]
  },
  {
   "cell_type": "code",
   "execution_count": 21,
   "metadata": {},
   "outputs": [
    {
     "ename": "IndexError",
     "evalue": "list index out of range",
     "output_type": "error",
     "traceback": [
      "\u001b[0;31m---------------------------------------------------------------------------\u001b[0m",
      "\u001b[0;31mIndexError\u001b[0m                                Traceback (most recent call last)",
      "Cell \u001b[0;32mIn[21], line 19\u001b[0m\n\u001b[1;32m     16\u001b[0m         pcd\u001b[38;5;241m.\u001b[39mpaint_uniform_color([\u001b[38;5;241m1\u001b[39m, \u001b[38;5;241m0\u001b[39m, \u001b[38;5;241m0\u001b[39m])\n\u001b[1;32m     18\u001b[0m \u001b[38;5;66;03m# 融合两个点云\u001b[39;00m\n\u001b[0;32m---> 19\u001b[0m combined_pcd \u001b[38;5;241m=\u001b[39m pcds[\u001b[38;5;241m0\u001b[39m] \u001b[38;5;241m+\u001b[39m \u001b[43mpcds\u001b[49m\u001b[43m[\u001b[49m\u001b[38;5;241;43m1\u001b[39;49m\u001b[43m]\u001b[49m\n\u001b[1;32m     21\u001b[0m \u001b[38;5;66;03m# # downsample\u001b[39;00m\n\u001b[1;32m     22\u001b[0m \u001b[38;5;66;03m# voxel_size = 0.002\u001b[39;00m\n\u001b[1;32m     23\u001b[0m \u001b[38;5;66;03m# combined_pcd = combined_pcd.voxel_down_sample(voxel_size)\u001b[39;00m\n\u001b[1;32m     24\u001b[0m \n\u001b[1;32m     25\u001b[0m \u001b[38;5;66;03m# 创建Open3D视窗并显示融合的点云\u001b[39;00m\n\u001b[1;32m     26\u001b[0m vis \u001b[38;5;241m=\u001b[39m o3d\u001b[38;5;241m.\u001b[39mvisualization\u001b[38;5;241m.\u001b[39mVisualizer()\n",
      "\u001b[0;31mIndexError\u001b[0m: list index out of range"
     ]
    }
   ],
   "source": [
    "\n",
    "pcds = []  # 存储点云的列表\n",
    "for i, pipeline in enumerate(pipelines):\n",
    "    # 获取相机的内参\n",
    "    intr = profiles[i].get_stream(rs.stream.color).as_video_stream_profile().get_intrinsics()\n",
    "    pinhole_camera_intrinsic = o3d.camera.PinholeCameraIntrinsic(\n",
    "        intr.width, intr.height, intr.fx, intr.fy, intr.ppx, intr.ppy)\n",
    "    \n",
    "    # 捕获帧并转换\n",
    "    rs_frames = pipeline.wait_for_frames()\n",
    "    extrinsic = extrinsics[i]\n",
    "    pcd = convert_rs_frames_to_pointcloud(rs_frames, pinhole_camera_intrinsic, extrinsic)\n",
    "    pcds.append(pcd)\n",
    "\n",
    "    if i == 0:\n",
    "        # pcd to red\n",
    "        pcd.paint_uniform_color([1, 0, 0])\n",
    "\n",
    "# 融合两个点云\n",
    "combined_pcd = pcds[0] + pcds[1]\n",
    "\n",
    "# # downsample\n",
    "# voxel_size = 0.002\n",
    "# combined_pcd = combined_pcd.voxel_down_sample(voxel_size)\n",
    "\n",
    "# 创建Open3D视窗并显示融合的点云\n",
    "vis = o3d.visualization.Visualizer()\n",
    "vis.create_window(window_name=\"Combined Point Cloud\", width=800, height=800)\n",
    "vis.add_geometry(combined_pcd)\n",
    "render_opt = vis.get_render_option()\n",
    "render_opt.point_size = 1.0\n",
    "\n",
    "vis.run()  # 显示窗口\n",
    "vis.destroy_window()"
   ]
  },
  {
   "cell_type": "code",
   "execution_count": null,
   "metadata": {},
   "outputs": [],
   "source": [
    "# # 创建Open3D视窗\n",
    "# vis = o3d.visualization.Visualizer()\n",
    "# vis.create_window(window_name=\"Dynamic Combined Point Cloud\", width=800, height=800)\n",
    "# render_opt = vis.get_render_option()\n",
    "# render_opt.point_size = 1.0\n",
    "\n",
    "# if_first = True\n",
    "\n",
    "# # 循环不断更新显示点云\n",
    "# while True:\n",
    "#     pcds = []  # 存储点云的列表\n",
    "#     for i, pipeline in enumerate(pipelines):\n",
    "#         # 获取相机的内参\n",
    "#         intr = profiles[i].get_stream(rs.stream.color).as_video_stream_profile().get_intrinsics()\n",
    "#         pinhole_camera_intrinsic = o3d.camera.PinholeCameraIntrinsic(\n",
    "#             intr.width, intr.height, intr.fx, intr.fy, intr.ppx, intr.ppy)\n",
    "        \n",
    "#         # 捕获帧并转换\n",
    "#         extrinsic = extrinsics[i]\n",
    "#         rs_frames = pipeline.wait_for_frames()\n",
    "#         pcd = convert_rs_frames_to_pointcloud(rs_frames, pinhole_camera_intrinsic, extrinsic)\n",
    "#         if i == 0:\n",
    "#             # 将第一个相机的点云着色为红色\n",
    "#             pcd.paint_uniform_color([1, 0, 0])\n",
    "#         pcds.append(pcd)\n",
    "\n",
    "#     # 融合两个点云\n",
    "#     combined_pcd = pcds[0] + pcds[1]\n",
    "\n",
    "#     # 如果是第一次循环，添加点云到视图中；否则更新点云\n",
    "#     if if_first:\n",
    "#         vis.add_geometry(combined_pcd)\n",
    "#         if_first = False\n",
    "#     else:\n",
    "#         vis.update_geometry(combined_pcd)\n",
    "    \n",
    "#     vis.poll_events()\n",
    "#     vis.update_renderer()\n",
    "\n",
    "#     print(1)\n",
    "\n",
    "# vis.destroy_window()"
   ]
  }
 ],
 "metadata": {
  "kernelspec": {
   "display_name": "3dgs_arm",
   "language": "python",
   "name": "python3"
  },
  "language_info": {
   "codemirror_mode": {
    "name": "ipython",
    "version": 3
   },
   "file_extension": ".py",
   "mimetype": "text/x-python",
   "name": "python",
   "nbconvert_exporter": "python",
   "pygments_lexer": "ipython3",
   "version": "3.10.13"
  }
 },
 "nbformat": 4,
 "nbformat_minor": 2
}
