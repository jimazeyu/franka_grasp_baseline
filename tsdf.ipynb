{
 "cells": [
  {
   "cell_type": "code",
   "execution_count": null,
   "metadata": {},
   "outputs": [],
   "source": [
    "import open3d as o3d\n",
    "import numpy as np\n",
    "import os\n",
    "import matplotlib.pyplot as plt\n",
    "from tqdm import tqdm, trange\n",
    "from PIL import Image"
   ]
  },
  {
   "cell_type": "code",
   "execution_count": null,
   "metadata": {},
   "outputs": [],
   "source": [
    "base_dir = './data/poses/center_pose1'"
   ]
  },
  {
   "cell_type": "code",
   "execution_count": null,
   "metadata": {},
   "outputs": [],
   "source": [
    "os.path.exists(base_dir)"
   ]
  },
  {
   "cell_type": "code",
   "execution_count": null,
   "metadata": {},
   "outputs": [],
   "source": [
    "intrinsic_mat = np.load(os.path.join(base_dir, 'camera_intrinsics.npz'))\n",
    "intrinsic_mat"
   ]
  },
  {
   "cell_type": "code",
   "execution_count": null,
   "metadata": {},
   "outputs": [],
   "source": [
    "fx, fy = intrinsic_mat['fx'], intrinsic_mat['fy']\n",
    "ppx, ppy = intrinsic_mat['ppx'], intrinsic_mat['ppy']"
   ]
  },
  {
   "cell_type": "code",
   "execution_count": null,
   "metadata": {},
   "outputs": [],
   "source": [
    "print(fx, fy, ppx, ppy)"
   ]
  },
  {
   "cell_type": "code",
   "execution_count": null,
   "metadata": {},
   "outputs": [],
   "source": [
    "depth_image_path = os.path.join(base_dir, 'camera_depth')\n",
    "depth_image_path_list = sorted([os.path.join(depth_image_path, f) for f in os.listdir(depth_image_path) if f.endswith('.npy')])\n",
    "depth_image_list = [np.load(f) for f in depth_image_path_list]"
   ]
  },
  {
   "cell_type": "code",
   "execution_count": null,
   "metadata": {},
   "outputs": [],
   "source": [
    "rgb_image_path = os.path.join(base_dir, 'camera_rgb')\n",
    "rgb_image_path_list = sorted([os.path.join(rgb_image_path, f) for f in os.listdir(rgb_image_path) if f.endswith('.png')])\n",
    "rgb_image_list = [np.array(Image.open(f).convert('RGB')) for f in rgb_image_path_list]"
   ]
  },
  {
   "cell_type": "code",
   "execution_count": null,
   "metadata": {},
   "outputs": [],
   "source": [
    "assert len(depth_image_list) == len(rgb_image_list)\n",
    "assert depth_image_list[0].shape == rgb_image_list[0].shape[:2]"
   ]
  },
  {
   "cell_type": "code",
   "execution_count": null,
   "metadata": {},
   "outputs": [],
   "source": [
    "plt.imshow(rgb_image_list[0])"
   ]
  },
  {
   "cell_type": "code",
   "execution_count": null,
   "metadata": {},
   "outputs": [],
   "source": [
    "cam_to_gripper_rot = np.array([[-7.77766820e-02, -9.44073658e-01, -3.20430518e-01],\n",
    " [ 9.96970509e-01, -7.34019190e-02, -2.57286360e-02],\n",
    " [ 7.69512542e-04, -3.21460864e-01,  9.46922553e-01]])\n",
    "\n",
    "cam_to_gripper_trans = np.array([[ 0.10598264], [-0.02439176], [-0.08322135]])"
   ]
  },
  {
   "cell_type": "code",
   "execution_count": null,
   "metadata": {},
   "outputs": [],
   "source": [
    "cam_to_gripper_pose = np.eye(4)\n",
    "cam_to_gripper_pose[:3, :3] = cam_to_gripper_rot\n",
    "cam_to_gripper_pose[:3, 3] = cam_to_gripper_trans.squeeze()"
   ]
  },
  {
   "cell_type": "code",
   "execution_count": null,
   "metadata": {},
   "outputs": [],
   "source": [
    "cam_to_gripper_pose"
   ]
  },
  {
   "cell_type": "code",
   "execution_count": null,
   "metadata": {},
   "outputs": [],
   "source": [
    "pose_path = os.path.join(base_dir, 'poses')\n",
    "pose_path_list = sorted([os.path.join(pose_path, f) for f in os.listdir(pose_path) if f.endswith('.npy')])\n",
    "pose_list = [np.load(f) @ cam_to_gripper_pose for f in pose_path_list]"
   ]
  },
  {
   "cell_type": "code",
   "execution_count": null,
   "metadata": {},
   "outputs": [],
   "source": [
    "volume = o3d.pipelines.integration.ScalableTSDFVolume(\n",
    "    voxel_length=0.01,\n",
    "    sdf_trunc=3 * 0.01,\n",
    "    color_type=o3d.pipelines.integration.TSDFVolumeColorType.RGB8\n",
    ")\n",
    "\n",
    "H, W = depth_image_list[0].shape\n",
    "fx, fy, cx, cy = intrinsic_mat['fx'], intrinsic_mat['fy'], intrinsic_mat['ppx'], intrinsic_mat['ppy']\n",
    "\n",
    "for idx in trange(len(depth_image_list)):\n",
    "    pose = pose_list[idx]\n",
    "\n",
    "    rgb = rgb_image_list[idx]\n",
    "    rgb = np.ascontiguousarray(rgb)\n",
    "    depth = depth_image_list[idx] / 1000.0\n",
    "    depth[depth > 5.0] = 0.0 # remove invalid depth\n",
    "    depth = np.ascontiguousarray(depth.astype(np.float32))\n",
    "\n",
    "    rgb = o3d.geometry.Image(rgb)\n",
    "    depth = o3d.geometry.Image(depth)\n",
    "\n",
    "    rgbd = o3d.geometry.RGBDImage.create_from_color_and_depth(\n",
    "        rgb, depth, depth_scale=1.0, depth_trunc=4.0, convert_rgb_to_intensity=False)\n",
    "    intrinsic = o3d.camera.PinholeCameraIntrinsic(width=W, height=H, fx=fx, fy=fy, cx=cx, cy=cy)\n",
    "    extrinsic = np.linalg.inv(pose)\n",
    "    # extrinsic = pose\n",
    "    volume.integrate(rgbd, intrinsic, extrinsic)"
   ]
  },
  {
   "cell_type": "code",
   "execution_count": null,
   "metadata": {},
   "outputs": [],
   "source": [
    "mesh = volume.extract_triangle_mesh()"
   ]
  },
  {
   "cell_type": "code",
   "execution_count": null,
   "metadata": {},
   "outputs": [],
   "source": [
    "# visualize mesh\n",
    "o3d.visualization.draw_geometries([mesh])"
   ]
  },
  {
   "cell_type": "code",
   "execution_count": null,
   "metadata": {},
   "outputs": [],
   "source": [
    "mesh = volume.extract_triangle_mesh()\n",
    "mesh_path = os.path.join('/tmp/tmp.ply')\n",
    "o3d.io.write_triangle_mesh(mesh_path, mesh)"
   ]
  }
 ],
 "metadata": {
  "kernelspec": {
   "display_name": "scene-nerf-viz",
   "language": "python",
   "name": "python3"
  },
  "language_info": {
   "codemirror_mode": {
    "name": "ipython",
    "version": 3
   },
   "file_extension": ".py",
   "mimetype": "text/x-python",
   "name": "python",
   "nbconvert_exporter": "python",
   "pygments_lexer": "ipython3",
   "version": "3.10.12"
  }
 },
 "nbformat": 4,
 "nbformat_minor": 2
}
