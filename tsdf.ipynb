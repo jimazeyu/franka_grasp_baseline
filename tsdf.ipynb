{
 "cells": [
  {
   "cell_type": "code",
   "execution_count": null,
   "metadata": {},
   "outputs": [],
   "source": [
    "import open3d as o3d\n",
    "import numpy as np\n",
    "import os\n",
    "import matplotlib.pyplot as plt\n",
    "from tqdm import tqdm, trange\n",
    "from PIL import Image"
   ]
  },
  {
   "cell_type": "code",
   "execution_count": null,
   "metadata": {},
   "outputs": [],
   "source": [
    "# Constants that probably don't change\n",
    "DEPTH_SCALING_FACTOR    = 1000.0\n",
    "DEPTH_CUTOFF            = 1.0\n",
    "VOXEL_SIZE              =0.005\n",
    "\n",
    "# From handeye.ipynb\n",
    "cam_to_gripper_rot = np.array([[-7.77766820e-02, -9.44073658e-01, -3.20430518e-01],\n",
    " [ 9.96970509e-01, -7.34019190e-02, -2.57286360e-02],\n",
    " [ 7.69512542e-04, -3.21460864e-01,  9.46922553e-01]])\n",
    "\n",
    "cam_to_gripper_trans = np.array([[ 0.10598264], [-0.02439176], [-0.08322135]])\n",
    "\n",
    "cam_to_gripper_pose = np.eye(4)\n",
    "cam_to_gripper_pose[:3, :3] = cam_to_gripper_rot\n",
    "cam_to_gripper_pose[:3, 3] = cam_to_gripper_trans.squeeze()"
   ]
  },
  {
   "cell_type": "code",
   "execution_count": null,
   "metadata": {},
   "outputs": [],
   "source": [
    "def gather_single_sequence_data(base_dir):\n",
    "    assert os.path.exists(base_dir), f\"Path {base_dir} does not exist\"\n",
    "    intrinsic_mat = np.load(os.path.join(base_dir, 'camera_intrinsics.npz'))\n",
    "\n",
    "    fx, fy = intrinsic_mat['fx'], intrinsic_mat['fy']\n",
    "    ppx, ppy = intrinsic_mat['ppx'], intrinsic_mat['ppy']\n",
    "\n",
    "    depth_image_path = os.path.join(base_dir, 'camera_depth')\n",
    "    assert os.path.exists(depth_image_path), f\"Path {depth_image_path} does not exist\"\n",
    "    depth_image_path_list = sorted([os.path.join(depth_image_path, f) for f in os.listdir(depth_image_path) if f.endswith('.npy')])\n",
    "    depth_image_list = [np.load(f) for f in depth_image_path_list]\n",
    "\n",
    "    rgb_image_path = os.path.join(base_dir, 'camera_rgb')\n",
    "    assert os.path.exists(rgb_image_path), f\"Path {rgb_image_path} does not exist\"\n",
    "    rgb_image_path_list = sorted([os.path.join(rgb_image_path, f) for f in os.listdir(rgb_image_path) if f.endswith('.png')])\n",
    "    rgb_image_list = [np.array(Image.open(f).convert('RGB')) for f in rgb_image_path_list]\n",
    "\n",
    "    assert len(depth_image_list) == len(rgb_image_list)\n",
    "    assert depth_image_list[0].shape == rgb_image_list[0].shape[:2]\n",
    "\n",
    "    pose_path = os.path.join(base_dir, 'poses')\n",
    "    assert os.path.exists(pose_path), f\"Path {pose_path} does not exist\"\n",
    "    pose_path_list = sorted([os.path.join(pose_path, f) for f in os.listdir(pose_path) if f.endswith('.npy')])\n",
    "    pose_list = [np.load(f) @ cam_to_gripper_pose for f in pose_path_list]\n",
    "\n",
    "    return {\n",
    "        'fx': fx,\n",
    "        'fy': fy,\n",
    "        'ppx': ppx,\n",
    "        'ppy': ppy,\n",
    "        'depth_image_list': depth_image_list,\n",
    "        'rgb_image_list': rgb_image_list,\n",
    "        'pose_list': pose_list\n",
    "    }"
   ]
  },
  {
   "cell_type": "code",
   "execution_count": null,
   "metadata": {},
   "outputs": [],
   "source": [
    "dataset_dir = './data/objects_to_catch/'\n",
    "\n",
    "dataset_dict = None\n",
    "\n",
    "for seq_name in os.listdir(dataset_dir):\n",
    "    seq_dir = os.path.join(dataset_dir, seq_name)\n",
    "    if not os.path.isdir(seq_dir):\n",
    "        continue\n",
    "    print(f'Processing sequence {seq_name}')\n",
    "    seq_data = gather_single_sequence_data(seq_dir)\n",
    "\n",
    "    if dataset_dict is None:\n",
    "        dataset_dict = seq_data\n",
    "    else:\n",
    "        assert np.isclose(dataset_dict['fx'], seq_data['fx'])\n",
    "        assert np.isclose(dataset_dict['fy'], seq_data['fy'])\n",
    "        assert np.isclose(dataset_dict['ppx'], seq_data['ppx'])\n",
    "        assert np.isclose(dataset_dict['ppy'], seq_data['ppy'])\n",
    "        assert dataset_dict['depth_image_list'][0].shape == seq_data['depth_image_list'][0].shape\n",
    "        assert dataset_dict['rgb_image_list'][0].shape == seq_data['rgb_image_list'][0].shape\n",
    "        dataset_dict['depth_image_list'] += seq_data['depth_image_list']\n",
    "        dataset_dict['rgb_image_list'] += seq_data['rgb_image_list']\n",
    "        dataset_dict['pose_list'] += seq_data['pose_list']"
   ]
  },
  {
   "cell_type": "code",
   "execution_count": null,
   "metadata": {},
   "outputs": [],
   "source": [
    "volume = o3d.pipelines.integration.ScalableTSDFVolume(\n",
    "    voxel_length=VOXEL_SIZE,\n",
    "    sdf_trunc=3 * VOXEL_SIZE,\n",
    "    color_type=o3d.pipelines.integration.TSDFVolumeColorType.RGB8\n",
    ")\n",
    "\n",
    "H, W = dataset_dict['depth_image_list'][0].shape\n",
    "\n",
    "for idx in trange(len(dataset_dict['depth_image_list'])):\n",
    "    pose = dataset_dict['pose_list'][idx]\n",
    "\n",
    "    rgb = dataset_dict['rgb_image_list'][idx]\n",
    "    rgb = np.ascontiguousarray(rgb)\n",
    "    depth = dataset_dict['depth_image_list'][idx] / DEPTH_SCALING_FACTOR\n",
    "    depth[depth > DEPTH_CUTOFF] = 0.0 # remove invalid depth\n",
    "    depth = np.ascontiguousarray(depth.astype(np.float32))\n",
    "\n",
    "    rgb = o3d.geometry.Image(rgb)\n",
    "    depth = o3d.geometry.Image(depth)\n",
    "\n",
    "    rgbd = o3d.geometry.RGBDImage.create_from_color_and_depth(\n",
    "        rgb, depth, depth_scale=1.0, depth_trunc=4.0, convert_rgb_to_intensity=False)\n",
    "    intrinsic = o3d.camera.PinholeCameraIntrinsic(width=W, height=H, fx=dataset_dict['fx'], fy=dataset_dict['fy'], cx=dataset_dict['ppx'], cy=dataset_dict['ppy'])\n",
    "    extrinsic = np.linalg.inv(pose)\n",
    "    # extrinsic = pose\n",
    "    volume.integrate(rgbd, intrinsic, extrinsic)"
   ]
  },
  {
   "cell_type": "code",
   "execution_count": null,
   "metadata": {},
   "outputs": [],
   "source": [
    "mesh = volume.extract_triangle_mesh()"
   ]
  },
  {
   "cell_type": "code",
   "execution_count": null,
   "metadata": {},
   "outputs": [],
   "source": [
    "mesh.vertices"
   ]
  },
  {
   "cell_type": "code",
   "execution_count": null,
   "metadata": {},
   "outputs": [],
   "source": [
    "# visualize mesh\n",
    "o3d.visualization.draw_geometries([mesh])"
   ]
  },
  {
   "cell_type": "code",
   "execution_count": null,
   "metadata": {},
   "outputs": [],
   "source": [
    "mesh_path = os.path.join('./extracted.ply')\n",
    "o3d.io.write_triangle_mesh(mesh_path, mesh)"
   ]
  },
  {
   "cell_type": "code",
   "execution_count": null,
   "metadata": {},
   "outputs": [],
   "source": []
  }
 ],
 "metadata": {
  "kernelspec": {
   "display_name": "scene-nerf-viz",
   "language": "python",
   "name": "python3"
  },
  "language_info": {
   "codemirror_mode": {
    "name": "ipython",
    "version": 3
   },
   "file_extension": ".py",
   "mimetype": "text/x-python",
   "name": "python",
   "nbconvert_exporter": "python",
   "pygments_lexer": "ipython3",
   "version": "3.10.12"
  }
 },
 "nbformat": 4,
 "nbformat_minor": 2
}
