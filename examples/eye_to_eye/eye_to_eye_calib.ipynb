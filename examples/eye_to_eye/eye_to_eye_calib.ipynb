{
 "cells": [
  {
   "cell_type": "code",
   "execution_count": 6,
   "metadata": {},
   "outputs": [],
   "source": [
    "import os\n",
    "import sys\n",
    "import cv2\n",
    "\n",
    "parent_dir = os.path.dirname(os.getcwd())\n",
    "parent_dir = os.path.dirname(parent_dir)\n",
    "sys.path.append(parent_dir)\n",
    "\n",
    "from calibration.eye_to_eye import EyetoEyeCalibrator\n",
    "from calibration.utils import read_data"
   ]
  },
  {
   "cell_type": "code",
   "execution_count": 7,
   "metadata": {},
   "outputs": [],
   "source": [
    "# Read data\n",
    "cam1_dir = '../../eye_to_eye/camera1'\n",
    "rgb_list1, depth_list1, pose_list1, rgb_intrinsics_1, rgb_coeffs1, depth_intrinsics_1, depth_coeffs1, depth_scale1 = read_data(cam1_dir)\n",
    "cam2_dir = '../../eye_to_eye/camera2'\n",
    "rgb_list2, depth_list2, pose_list2, rgb_intrinsics_2, rgb_coeffs2, depth_intrinsics_2, depth_coeffs2, depth_scale2 = read_data(cam2_dir)"
   ]
  },
  {
   "cell_type": "code",
   "execution_count": 8,
   "metadata": {},
   "outputs": [
    {
     "name": "stdout",
     "output_type": "stream",
     "text": [
      "Average relative rotation:\n",
      "[[-0.9880781  -0.05062847  0.14539061]\n",
      " [ 0.12677917 -0.80335657  0.58184643]\n",
      " [ 0.08734251  0.59334221  0.80019767]]\n",
      "Average relative translation:\n",
      "[[-0.01303887]\n",
      " [-0.62759975]\n",
      " [ 0.74274143]]\n",
      "Mean error: 0.07135809180051828\n"
     ]
    }
   ],
   "source": [
    "charuco_dict = cv2.aruco.getPredefinedDictionary(cv2.aruco.DICT_6X6_250)\n",
    "board = cv2.aruco.CharucoBoard((5, 5), 0.08, 0.06, charuco_dict)\n",
    "\n",
    "calibrator = EyetoEyeCalibrator(rgb_intrinsics_1, rgb_coeffs1, rgb_intrinsics_2, rgb_coeffs2, charuco_dict, board)\n",
    "R_avg, t_avg = calibrator.perform(rgb_list1, rgb_list2)"
   ]
  }
 ],
 "metadata": {
  "kernelspec": {
   "display_name": "python38",
   "language": "python",
   "name": "python3"
  },
  "language_info": {
   "codemirror_mode": {
    "name": "ipython",
    "version": 3
   },
   "file_extension": ".py",
   "mimetype": "text/x-python",
   "name": "python",
   "nbconvert_exporter": "python",
   "pygments_lexer": "ipython3",
   "version": "3.10.13"
  }
 },
 "nbformat": 4,
 "nbformat_minor": 2
}
