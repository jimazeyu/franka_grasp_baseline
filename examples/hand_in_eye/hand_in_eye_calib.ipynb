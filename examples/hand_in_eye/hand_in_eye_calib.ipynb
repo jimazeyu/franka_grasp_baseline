{
 "cells": [
  {
   "cell_type": "code",
   "execution_count": 59,
   "metadata": {},
   "outputs": [],
   "source": [
    "import numpy as np\n",
    "import os\n",
    "import sys\n",
    "import open3d as o3d\n",
    "import cv2\n",
    "from PIL import Image\n",
    "from tqdm import trange\n",
    "\n",
    "parent_dir = os.path.dirname(os.getcwd())\n",
    "parent_dir = os.path.dirname(parent_dir)\n",
    "sys.path.append(parent_dir)\n",
    "\n",
    "from calibration.hand_in_eye import HandinEyeCalibrator\n",
    "from calibration.utils import read_data"
   ]
  },
  {
   "cell_type": "markdown",
   "metadata": {},
   "source": [
    "# Calibration"
   ]
  },
  {
   "cell_type": "code",
   "execution_count": 60,
   "metadata": {},
   "outputs": [
    {
     "name": "stdout",
     "output_type": "stream",
     "text": [
      "6 poses found\n",
      "Camera matrix: [[1.36377332e+03 0.00000000e+00 9.56298462e+02]\n",
      " [0.00000000e+00 1.36157141e+03 5.46581238e+02]\n",
      " [0.00000000e+00 0.00000000e+00 1.00000000e+00]]\n"
     ]
    }
   ],
   "source": [
    "# Read data\n",
    "base_dir = '../../hand_in_eye'\n",
    "rgb_list, depth_list, pose_list, rgb_intrinsics, rgb_coeffs, depth_intrinsics, depth_coeffs, depth_scale = read_data(base_dir)\n",
    "print(f\"{len(rgb_list)} poses found\")\n",
    "print(f'Camera matrix: {rgb_intrinsics}')"
   ]
  },
  {
   "cell_type": "code",
   "execution_count": 61,
   "metadata": {},
   "outputs": [
    {
     "name": "stdout",
     "output_type": "stream",
     "text": [
      "Average Camera to gripper rotation matrix:\n",
      "[[ 0.0550984  -0.92795001 -0.36860947]\n",
      " [ 0.99468901  0.08315504 -0.06065485]\n",
      " [ 0.08693641 -0.36330981  0.92760339]]\n",
      "Average Camera to gripper translation vector:\n",
      "[[ 0.18032675]\n",
      " [ 0.01577387]\n",
      " [-0.08226083]]\n"
     ]
    }
   ],
   "source": [
    "# Calibrate\n",
    "charuco_dict = cv2.aruco.getPredefinedDictionary(cv2.aruco.DICT_6X6_250)\n",
    "board = cv2.aruco.CharucoBoard((5, 5), 0.08, 0.06, charuco_dict)\n",
    "\n",
    "calibrator = HandinEyeCalibrator(rgb_intrinsics, rgb_coeffs, charuco_dict, board)\n",
    "R_cam2gripper_avg, t_cam2gripper_avg = calibrator.perform(rgb_list, pose_list)\n",
    "\n",
    "print(\"Average Camera to gripper rotation matrix:\")\n",
    "print(R_cam2gripper_avg)\n",
    "print(\"Average Camera to gripper translation vector:\")\n",
    "print(t_cam2gripper_avg)"
   ]
  },
  {
   "cell_type": "markdown",
   "metadata": {},
   "source": [
    "# Visualize results"
   ]
  },
  {
   "cell_type": "code",
   "execution_count": 62,
   "metadata": {},
   "outputs": [],
   "source": [
    "# visualize coordinates\n",
    "R_avg = R_cam2gripper_avg\n",
    "t_avg = t_cam2gripper_avg\n",
    "\n",
    "R_original = np.eye(3)\n",
    "t_original = np.zeros((3, 1))\n",
    "\n",
    "R_relative = R_avg.copy()\n",
    "t_relative = t_avg.copy()\n",
    "\n",
    "T_original = np.eye(4)\n",
    "T_original[:3, :3] = R_original\n",
    "T_original[:3, 3] = t_original.flatten()\n",
    "\n",
    "T_relative = np.eye(4)\n",
    "T_relative[:3, :3] = R_relative\n",
    "T_relative[:3, 3] = t_relative.flatten()\n",
    "\n",
    "T_transformed = np.dot(T_original, T_relative)\n",
    "\n",
    "mesh_frame_original = o3d.geometry.TriangleMesh.create_coordinate_frame(size=0.6)\n",
    "mesh_frame_transformed = o3d.geometry.TriangleMesh.create_coordinate_frame(size=0.6)\n",
    "\n",
    "mesh_frame_original.transform(T_original)\n",
    "mesh_frame_transformed.transform(T_transformed)\n",
    "\n",
    "o3d.visualization.draw_geometries([mesh_frame_original, mesh_frame_transformed])"
   ]
  },
  {
   "cell_type": "code",
   "execution_count": 63,
   "metadata": {},
   "outputs": [],
   "source": [
    "# accumulate pointclouds\n",
    "camera_intrinsic = o3d.camera.PinholeCameraIntrinsic()\n",
    "camera_intrinsic.set_intrinsics(rgb_list[0].shape[1], rgb_list[0].shape[0],\n",
    "                                rgb_intrinsics[0, 0], rgb_intrinsics[1, 1],\n",
    "                                rgb_intrinsics[0, 2], rgb_intrinsics[1, 2])\n",
    "\n",
    "# Transformation matrix from camera to gripper\n",
    "T_cam_to_gripper = np.eye(4)\n",
    "T_cam_to_gripper[0:3, 0:3] = R_cam2gripper_avg\n",
    "T_cam_to_gripper[0:3, 3] = t_cam2gripper_avg.flatten()\n",
    "\n",
    "combined_pcd = o3d.geometry.PointCloud()\n",
    "\n",
    "# Iterate over all images and add them to the point cloud\n",
    "for i in range(0,len(rgb_list), 4):\n",
    "    rgb_img = rgb_list[i]\n",
    "    depth_img = depth_list[i]\n",
    "    pose_to_base = pose_list[i]\n",
    "\n",
    "    rgbd_image = o3d.geometry.RGBDImage.create_from_color_and_depth(\n",
    "        o3d.geometry.Image(rgb_img),\n",
    "        o3d.geometry.Image(depth_img),\n",
    "        depth_scale=1 / depth_scale,\n",
    "    )\n",
    "\n",
    "    pcd = o3d.geometry.PointCloud.create_from_rgbd_image(\n",
    "        rgbd_image, camera_intrinsic\n",
    "    )\n",
    "\n",
    "    cam_to_world = pose_to_base @ T_cam_to_gripper\n",
    "    pcd.transform(cam_to_world)\n",
    "\n",
    "    combined_pcd += pcd\n",
    "\n",
    "# Visualize the combined point cloud\n",
    "o3d.visualization.draw_geometries([combined_pcd])"
   ]
  },
  {
   "cell_type": "markdown",
   "metadata": {},
   "source": [
    "# TSDF reconstruction"
   ]
  },
  {
   "cell_type": "code",
   "execution_count": 64,
   "metadata": {},
   "outputs": [
    {
     "name": "stderr",
     "output_type": "stream",
     "text": [
      "  0%|          | 0/6 [00:00<?, ?it/s]"
     ]
    },
    {
     "name": "stderr",
     "output_type": "stream",
     "text": [
      "100%|██████████| 6/6 [00:00<00:00, 35.54it/s]\n"
     ]
    }
   ],
   "source": [
    "DEPTH_CUTOFF            = 1\n",
    "VOXEL_SIZE              =0.005\n",
    "\n",
    "cam_to_gripper_pose = np.eye(4)\n",
    "cam_to_gripper_pose[:3, :3] = R_cam2gripper_avg\n",
    "cam_to_gripper_pose[:3, 3] = t_cam2gripper_avg.squeeze()\n",
    "\n",
    "volume = o3d.pipelines.integration.ScalableTSDFVolume(\n",
    "    voxel_length=VOXEL_SIZE,\n",
    "    sdf_trunc=3 * VOXEL_SIZE,\n",
    "    color_type=o3d.pipelines.integration.TSDFVolumeColorType.RGB8\n",
    ")\n",
    "\n",
    "for idx in trange(len(rgb_list)):\n",
    "    pose = pose_list[idx] @ cam_to_gripper_pose\n",
    "    rgb = rgb_list[idx]\n",
    "    rgb = np.ascontiguousarray(rgb)\n",
    "    depth = depth_list[idx] * depth_scale\n",
    "    depth[depth > DEPTH_CUTOFF] = 0.0 # remove invalid depth\n",
    "    depth = np.ascontiguousarray(depth.astype(np.float32))\n",
    "\n",
    "    rgb = o3d.geometry.Image(rgb)\n",
    "    depth = o3d.geometry.Image(depth)\n",
    "\n",
    "    rgbd = o3d.geometry.RGBDImage.create_from_color_and_depth(\n",
    "        rgb, depth, depth_scale=1.0, depth_trunc=4.0, convert_rgb_to_intensity=False)\n",
    "    intrinsic = camera_intrinsic\n",
    "    extrinsic = np.linalg.inv(pose)\n",
    "    # extrinsic = pose\n",
    "    volume.integrate(rgbd, intrinsic, extrinsic)"
   ]
  },
  {
   "cell_type": "code",
   "execution_count": 65,
   "metadata": {},
   "outputs": [],
   "source": [
    "# Get mesh and visualize\n",
    "mesh = volume.extract_triangle_mesh()\n",
    "sampled_pcd = mesh.sample_points_uniformly(number_of_points=100000)\n",
    "o3d.visualization.draw_geometries([sampled_pcd])"
   ]
  },
  {
   "cell_type": "code",
   "execution_count": null,
   "metadata": {},
   "outputs": [],
   "source": []
  }
 ],
 "metadata": {
  "kernelspec": {
   "display_name": "3dgs_arm",
   "language": "python",
   "name": "python3"
  },
  "language_info": {
   "codemirror_mode": {
    "name": "ipython",
    "version": 3
   },
   "file_extension": ".py",
   "mimetype": "text/x-python",
   "name": "python",
   "nbconvert_exporter": "python",
   "pygments_lexer": "ipython3",
   "version": "3.10.13"
  }
 },
 "nbformat": 4,
 "nbformat_minor": 2
}
