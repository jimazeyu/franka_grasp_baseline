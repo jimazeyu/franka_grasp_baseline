{
 "cells": [
  {
   "cell_type": "markdown",
   "metadata": {},
   "source": [
    "# Connect"
   ]
  },
  {
   "cell_type": "code",
   "execution_count": 1,
   "metadata": {},
   "outputs": [],
   "source": [
    "# Panda hostname/IP and Desk login information of your robot\n",
    "hostname = '172.16.0.2'\n",
    "username = 'admin'\n",
    "password = 'wanglab123'\n",
    "\n",
    "# panda-py is chatty, activate information log level\n",
    "import logging\n",
    "logging.basicConfig(level=logging.INFO)"
   ]
  },
  {
   "cell_type": "code",
   "execution_count": 2,
   "metadata": {},
   "outputs": [
    {
     "name": "stderr",
     "output_type": "stream",
     "text": [
      "INFO:desk:Login succesful.\n",
      "INFO:desk:Retaken control.\n"
     ]
    }
   ],
   "source": [
    "import panda_py\n",
    "\n",
    "desk = panda_py.Desk(hostname, username, password, platform='fr3')\n",
    "desk.unlock()\n",
    "desk.activate_fci()"
   ]
  },
  {
   "cell_type": "code",
   "execution_count": 3,
   "metadata": {},
   "outputs": [
    {
     "name": "stderr",
     "output_type": "stream",
     "text": [
      "INFO:panda:Connected to robot (172.16.0.2).\n"
     ]
    }
   ],
   "source": [
    "from panda_py import libfranka\n",
    "\n",
    "panda = panda_py.Panda(hostname)\n",
    "gripper = libfranka.Gripper(hostname)"
   ]
  },
  {
   "cell_type": "markdown",
   "metadata": {},
   "source": [
    "# Eye-hand Calib"
   ]
  },
  {
   "cell_type": "code",
   "execution_count": 4,
   "metadata": {},
   "outputs": [
    {
     "name": "stdout",
     "output_type": "stream",
     "text": [
      "Object parameters:\n",
      "Score: 0.14745911955833435\n",
      "Dimensions (width, height, depth): 0.05920447036623955 0.019999999552965164 0.019999999552965164\n",
      "Rotation Matrix:\n",
      " [[ 0.28120205  0.01164402 -0.95957792]\n",
      " [ 0.07559296 -0.99708807  0.01005316]\n",
      " [-0.95666665 -0.07536431 -0.28126341]]\n",
      "Translation: [0.59249997 0.0925     0.04062952]\n",
      "Object ID: -1\n"
     ]
    }
   ],
   "source": [
    "import numpy as np\n",
    "\n",
    "def process_object(args):\n",
    "    # Unpack the list\n",
    "    score = args[0]\n",
    "    width = args[1]\n",
    "    height = args[2]\n",
    "    depth = args[3]\n",
    "    rotation_matrix = np.array(args[4:13]).reshape(3, 3)  # Reshape the rotation matrix\n",
    "    translation = np.array(args[13:16])  # Extract the translation vector\n",
    "    object_id = args[16]\n",
    "\n",
    "    # Do something with the object parameters\n",
    "    print(\"Object parameters:\")\n",
    "    print(\"Score:\", score)\n",
    "    print(\"Dimensions (width, height, depth):\", width, height, depth)\n",
    "    print(\"Rotation Matrix:\\n\", rotation_matrix)\n",
    "    print(\"Translation:\", translation)\n",
    "    print(\"Object ID:\", object_id)\n",
    "    \n",
    "    return score, width, height, depth, rotation_matrix, translation, object_id\n",
    "\n",
    "# Example usage\n",
    "args_list = [0.14745911955833435, 0.05920447036623955, 0.019999999552965164, 0.019999999552965164, 0.2812020480632782, 0.011644020676612854, -0.9595779180526733, 0.07559296488761902, -0.9970880746841431, 0.010053157806396484, -0.9566666483879089, -0.07536430656909943, -0.28126341104507446, 0.5924999713897705, 0.0925000011920929, 0.040629517287015915, -1]\n",
    "\n",
    "\n",
    "score, width, height, depth, rotation_matrix, translation, object_id = process_object(args_list)\n"
   ]
  },
  {
   "cell_type": "code",
   "execution_count": 5,
   "metadata": {},
   "outputs": [
    {
     "name": "stdout",
     "output_type": "stream",
     "text": [
      "  \u001b[38;5;1m 0.01164 \u001b[0m \u001b[38;5;1m-0.9596  \u001b[0m \u001b[38;5;1m 0.2812  \u001b[0m \u001b[38;5;4m 0.5925  \u001b[0m  \u001b[0m\n",
      "  \u001b[38;5;1m-0.9971  \u001b[0m \u001b[38;5;1m 0.01005 \u001b[0m \u001b[38;5;1m 0.07559 \u001b[0m \u001b[38;5;4m 0.0925  \u001b[0m  \u001b[0m\n",
      "  \u001b[38;5;1m-0.07536 \u001b[0m \u001b[38;5;1m-0.2813  \u001b[0m \u001b[38;5;1m-0.9567  \u001b[0m \u001b[38;5;4m 0.04063 \u001b[0m  \u001b[0m\n",
      "  \u001b[38;5;244m 0       \u001b[0m \u001b[38;5;244m 0       \u001b[0m \u001b[38;5;244m 0       \u001b[0m \u001b[38;5;244m 1       \u001b[0m  \u001b[0m\n",
      "\n",
      "(array([ 0.6459171 ,  0.66453763, -0.39538289, -2.09710101,  1.07052517,\n",
      "        2.90157166,  1.69325127]), 1, 39, 4, 3.887130437448611e-08)\n"
     ]
    }
   ],
   "source": [
    "import roboticstoolbox as rtb\n",
    "robot = rtb.models.Panda()\n",
    "from spatialmath import SE3\n",
    "import transforms3d.euler as euler\n",
    "roll, pitch, yaw = euler.mat2euler(rotation_matrix)\n",
    "\n",
    "\n",
    "Tep = SE3.Trans(0.59249997, 0.0925, 0.04062952) * SE3.RPY([roll, pitch, yaw]) * SE3.RPY([np.pi/2, 0, np.pi/2])\n",
    "print(Tep)\n",
    "sol = robot.ik_LM(Tep)         # solve IK\n",
    "print(sol)"
   ]
  },
  {
   "cell_type": "code",
   "execution_count": 6,
   "metadata": {},
   "outputs": [
    {
     "name": "stderr",
     "output_type": "stream",
     "text": [
      "INFO:panda:Initializing motion generation (moveToJointPosition).\n",
      "INFO:motion:Computed joint trajectory: 1 waypoint, duration 0.08 seconds.\n",
      "INFO:panda:Starting new controller (Trajectory).\n",
      "INFO:panda:Stopping active controller (Trajectory).\n",
      "INFO:panda:Initializing motion generation (moveToJointPosition).\n",
      "INFO:motion:Computed joint trajectory: 1 waypoint, duration 3.62 seconds.\n",
      "INFO:panda:Starting new controller (Trajectory).\n"
     ]
    },
    {
     "name": "stdout",
     "output_type": "stream",
     "text": [
      "[[ 2.16468871e-02 -9.61394925e-01  2.74287085e-01  5.91280297e-01]\n",
      " [-9.96886776e-01  1.38697507e-05  7.87249808e-02  9.39524170e-02]\n",
      " [-7.56896013e-02 -2.75137318e-01 -9.58420040e-01  3.89490793e-02]\n",
      " [ 0.00000000e+00  0.00000000e+00  0.00000000e+00  1.00000000e+00]]\n"
     ]
    },
    {
     "name": "stderr",
     "output_type": "stream",
     "text": [
      "INFO:panda:Stopping active controller (Trajectory).\n",
      "INFO:panda:Initializing motion generation (moveToJointPosition).\n",
      "INFO:motion:Computed joint trajectory: 1 waypoint, duration 3.63 seconds.\n",
      "INFO:panda:Starting new controller (Trajectory).\n"
     ]
    },
    {
     "data": {
      "text/plain": [
       "True"
      ]
     },
     "execution_count": 6,
     "metadata": {},
     "output_type": "execute_result"
    }
   ],
   "source": [
    "import numpy as np\n",
    "panda.move_to_start()\n",
    "gripper.move(0.08, 0.2)\n",
    "panda.move_to_joint_position(sol[0])\n",
    "\n",
    "\n",
    "pose = panda.get_pose()\n",
    "print(pose)\n",
    "gripper.grasp(0, 0.2, 10, 0.04, 0.04)\n",
    "panda.move_to_start()\n",
    "gripper.move(0.08, 0.2)"
   ]
  }
 ],
 "metadata": {
  "kernelspec": {
   "display_name": "pypanda",
   "language": "python",
   "name": "python3"
  },
  "language_info": {
   "codemirror_mode": {
    "name": "ipython",
    "version": 3
   },
   "file_extension": ".py",
   "mimetype": "text/x-python",
   "name": "python",
   "nbconvert_exporter": "python",
   "pygments_lexer": "ipython3",
   "version": "3.8.18"
  }
 },
 "nbformat": 4,
 "nbformat_minor": 2
}
