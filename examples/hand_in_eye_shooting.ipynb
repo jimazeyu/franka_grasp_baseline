{
 "cells": [
  {
   "cell_type": "markdown",
   "metadata": {},
   "source": [
    "# Connect"
   ]
  },
  {
   "cell_type": "code",
   "execution_count": 1,
   "metadata": {},
   "outputs": [],
   "source": [
    "# Panda hostname/IP and Desk login information of your robot\n",
    "hostname = '172.16.0.2'\n",
    "username = 'admin'\n",
    "password = 'wanglab123'\n",
    "\n",
    "# panda-py is chatty, activate information log level\n",
    "import logging\n",
    "logging.basicConfig(level=logging.INFO)"
   ]
  },
  {
   "cell_type": "code",
   "execution_count": 2,
   "metadata": {},
   "outputs": [
    {
     "name": "stderr",
     "output_type": "stream",
     "text": [
      "INFO:desk:Login succesful.\n",
      "INFO:desk:Retaken control.\n"
     ]
    }
   ],
   "source": [
    "import panda_py\n",
    "\n",
    "desk = panda_py.Desk(hostname, username, password, platform='fr3')\n",
    "desk.unlock()\n",
    "desk.activate_fci()"
   ]
  },
  {
   "cell_type": "code",
   "execution_count": 3,
   "metadata": {},
   "outputs": [
    {
     "name": "stderr",
     "output_type": "stream",
     "text": [
      "INFO:panda:Connected to robot (172.16.0.2).\n"
     ]
    }
   ],
   "source": [
    "from panda_py import libfranka\n",
    "\n",
    "panda = panda_py.Panda(hostname)\n",
    "gripper = libfranka.Gripper(hostname)"
   ]
  },
  {
   "cell_type": "markdown",
   "metadata": {},
   "source": [
    "# Hand in eye calib"
   ]
  },
  {
   "cell_type": "code",
   "execution_count": 4,
   "metadata": {},
   "outputs": [],
   "source": [
    "from panda_py import constants\n",
    "from scipy.spatial.transform import Rotation as R\n",
    "import pyrealsense2 as rs\n",
    "import numpy as np\n",
    "import matplotlib.pyplot as plt\n",
    "import os"
   ]
  },
  {
   "cell_type": "code",
   "execution_count": 5,
   "metadata": {},
   "outputs": [],
   "source": [
    "def enumerate_devices():\n",
    "    \"\"\"Enumerate connected RealSense cameras and return the first device serial number.\"\"\"\n",
    "    ctx = rs.context()\n",
    "    devices = ctx.query_devices()\n",
    "    if not devices:\n",
    "        raise ValueError(\"No RealSense devices found.\")\n",
    "    return devices[0].get_info(rs.camera_info.serial_number)\n",
    "\n",
    "def initialize_camera(serial_number):\n",
    "    \"\"\"Initialize the RealSense camera with the given serial number and return the pipeline and intrinsics.\"\"\"\n",
    "    pipeline = rs.pipeline()\n",
    "    config = rs.config()\n",
    "    config.enable_device(serial_number)\n",
    "    config.enable_stream(rs.stream.color, 1280, 720, rs.format.rgb8, 30)\n",
    "    config.enable_stream(rs.stream.depth, 1280, 720, rs.format.z16, 30)\n",
    "    profile = pipeline.start(config)\n",
    "    \n",
    "    # Get intrinsics\n",
    "    color_intrinsics = profile.get_stream(rs.stream.color).as_video_stream_profile().get_intrinsics()\n",
    "    return pipeline, color_intrinsics\n",
    "\n",
    "def save_intrinsics(intrinsics, path):\n",
    "    \"\"\"Save camera intrinsics to a file.\"\"\"\n",
    "    np.savez(path, fx=intrinsics.fx, fy=intrinsics.fy, ppx=intrinsics.ppx, ppy=intrinsics.ppy, coeffs=intrinsics.coeffs)\n",
    "\n",
    "def capture_and_save_frames(pipeline, align, base_dir, frame_num):\n",
    "    \"\"\"Capture aligned color and depth frames from the camera and save them.\"\"\"\n",
    "    frames = pipeline.wait_for_frames()\n",
    "    aligned_frames = align.process(frames)\n",
    "    color_frame = aligned_frames.get_color_frame()\n",
    "    depth_frame = aligned_frames.get_depth_frame()\n",
    "    \n",
    "    if not color_frame or not depth_frame:\n",
    "        print(\"Failed to capture frames\")\n",
    "        return\n",
    "    \n",
    "    color_image = np.asanyarray(color_frame.get_data())\n",
    "    depth_image = np.asanyarray(depth_frame.get_data())\n",
    "    \n",
    "    rgb_filename = f'{base_dir}/rgb/{frame_num}.png'\n",
    "    depth_filename = f'{base_dir}/depth/{frame_num}.npy'\n",
    "    \n",
    "    plt.imsave(rgb_filename, color_image)\n",
    "    np.save(depth_filename, depth_image)\n",
    "    \n",
    "    print(f\"Saved {rgb_filename}\")\n",
    "    print(f\"Saved {depth_filename}\")\n",
    "\n",
    "def generate_and_move_to_pose(init_pose, roll, pitch, yaw, z_add, x_add, y_add, max_roll_deviation, max_pitch_deviation, max_yaw_deviation):\n",
    "    \"\"\"Generate a new pose with turbulence and move the robot arm to it.\"\"\"\n",
    "    roll_turbulent = roll + np.random.uniform(-max_roll_deviation, max_roll_deviation)\n",
    "    pitch_turbulent = pitch + np.random.uniform(-max_pitch_deviation, max_pitch_deviation)\n",
    "    yaw_turbulent = yaw + np.random.uniform(-max_yaw_deviation, max_yaw_deviation)\n",
    "\n",
    "    r = R.from_euler('xyz', [roll_turbulent, pitch_turbulent, yaw_turbulent], degrees=False)\n",
    "    rotation_matrix = r.as_matrix()\n",
    "\n",
    "    absolute_rotation_matrix = np.dot(init_pose[:3, :3], rotation_matrix)\n",
    "\n",
    "    pose = init_pose.copy()\n",
    "    pose[:3, :3] = absolute_rotation_matrix\n",
    "    pose[2, 3] += z_add\n",
    "    pose[0, 3] += x_add\n",
    "    pose[1, 3] += y_add\n",
    "\n",
    "    panda.move_to_pose(pose)\n",
    "    \n",
    "    return pose\n",
    "    \n",
    "def save_pose(pose, base_dir, frame_num):\n",
    "    \"\"\"Save the robot arm's pose to a file.\"\"\"\n",
    "    pose_filename = f'{base_dir}/poses/pose_{frame_num}.npy'\n",
    "    np.save(pose_filename, pose)\n",
    "    print(f\"Saved pose to {pose_filename}\")"
   ]
  },
  {
   "cell_type": "code",
   "execution_count": 6,
   "metadata": {},
   "outputs": [],
   "source": [
    "def setup_directories(base_dir):\n",
    "    os.makedirs(f'{base_dir}/rgb', exist_ok=True)\n",
    "    os.makedirs(f'{base_dir}/depth', exist_ok=True)\n",
    "    os.makedirs(f'{base_dir}/poses', exist_ok=True)\n",
    "\n",
    "def initialize_pipeline():\n",
    "    align = rs.align(rs.stream.color)\n",
    "    serial_number = enumerate_devices()\n",
    "    pipeline, color_intrinsics = initialize_camera(serial_number)\n",
    "    return pipeline, align, color_intrinsics\n",
    "\n",
    "def capture_images(start_frame, picture_nums, base_dir, init_pose, roll, pitch, yaw, z_add, x_add, y_add,\n",
    "                   max_roll_deviation, max_pitch_deviation, max_yaw_deviation):\n",
    "    setup_directories(base_dir)\n",
    "    pipeline, align, color_intrinsics = initialize_pipeline()\n",
    "\n",
    "    # Save the camera intrinsics\n",
    "    save_intrinsics(color_intrinsics, f'{base_dir}/camera_intrinsics.npz')\n",
    "\n",
    "    for frame_num in range(start_frame, start_frame + picture_nums):  # Capture images at 10 different poses\n",
    "        pose = generate_and_move_to_pose(init_pose, roll, pitch, yaw, z_add, x_add, y_add,\n",
    "                                         max_roll_deviation, max_pitch_deviation, max_yaw_deviation)\n",
    "        capture_and_save_frames(pipeline, align, base_dir, frame_num)\n",
    "        save_pose(pose, base_dir, frame_num)\n",
    "\n",
    "    panda.move_to_start()\n",
    "\n",
    "    pipeline.stop()\n"
   ]
  },
  {
   "cell_type": "code",
   "execution_count": 7,
   "metadata": {},
   "outputs": [
    {
     "name": "stderr",
     "output_type": "stream",
     "text": [
      "INFO:panda:Initializing motion generation (moveToPose).\n",
      "INFO:motion:Computed Cartesian trajectory: 1 waypoint, duration 0.14 seconds.\n",
      "INFO:panda:Starting new controller (Trajectory).\n",
      "INFO:panda:Stopping active controller (Trajectory).\n",
      "INFO:panda:Initializing motion generation (moveToPose).\n",
      "INFO:motion:Computed Cartesian trajectory: 1 waypoint, duration 0.23 seconds.\n",
      "INFO:panda:Starting new controller (Trajectory).\n"
     ]
    },
    {
     "name": "stdout",
     "output_type": "stream",
     "text": [
      "Saved ./hand_in_eye/rgb/0.png\n",
      "Saved ./hand_in_eye/depth/0.npy\n",
      "Saved pose to ./hand_in_eye/poses/pose_0.npy\n"
     ]
    },
    {
     "name": "stderr",
     "output_type": "stream",
     "text": [
      "INFO:panda:Stopping active controller (Trajectory).\n",
      "INFO:panda:Initializing motion generation (moveToPose).\n",
      "INFO:motion:Computed Cartesian trajectory: 1 waypoint, duration 0.12 seconds.\n",
      "INFO:panda:Starting new controller (Trajectory).\n"
     ]
    },
    {
     "name": "stdout",
     "output_type": "stream",
     "text": [
      "Saved ./hand_in_eye/rgb/1.png\n",
      "Saved ./hand_in_eye/depth/1.npy\n",
      "Saved pose to ./hand_in_eye/poses/pose_1.npy\n"
     ]
    },
    {
     "name": "stderr",
     "output_type": "stream",
     "text": [
      "INFO:panda:Stopping active controller (Trajectory).\n",
      "INFO:panda:Initializing motion generation (moveToPose).\n",
      "INFO:motion:Computed Cartesian trajectory: 1 waypoint, duration 0.28 seconds.\n",
      "INFO:panda:Starting new controller (Trajectory).\n"
     ]
    },
    {
     "name": "stdout",
     "output_type": "stream",
     "text": [
      "Saved ./hand_in_eye/rgb/2.png\n",
      "Saved ./hand_in_eye/depth/2.npy\n",
      "Saved pose to ./hand_in_eye/poses/pose_2.npy\n"
     ]
    },
    {
     "name": "stderr",
     "output_type": "stream",
     "text": [
      "INFO:panda:Stopping active controller (Trajectory).\n",
      "INFO:panda:Initializing motion generation (moveToPose).\n",
      "INFO:motion:Computed Cartesian trajectory: 1 waypoint, duration 0.25 seconds.\n",
      "INFO:panda:Starting new controller (Trajectory).\n"
     ]
    },
    {
     "name": "stdout",
     "output_type": "stream",
     "text": [
      "Saved ./hand_in_eye/rgb/3.png\n",
      "Saved ./hand_in_eye/depth/3.npy\n",
      "Saved pose to ./hand_in_eye/poses/pose_3.npy\n"
     ]
    },
    {
     "name": "stderr",
     "output_type": "stream",
     "text": [
      "INFO:panda:Stopping active controller (Trajectory).\n",
      "INFO:panda:Initializing motion generation (moveToPose).\n",
      "INFO:motion:Computed Cartesian trajectory: 1 waypoint, duration 0.23 seconds.\n",
      "INFO:panda:Starting new controller (Trajectory).\n"
     ]
    },
    {
     "name": "stdout",
     "output_type": "stream",
     "text": [
      "Saved ./hand_in_eye/rgb/4.png\n",
      "Saved ./hand_in_eye/depth/4.npy\n",
      "Saved pose to ./hand_in_eye/poses/pose_4.npy\n"
     ]
    },
    {
     "name": "stderr",
     "output_type": "stream",
     "text": [
      "INFO:panda:Stopping active controller (Trajectory).\n",
      "INFO:panda:Initializing motion generation (moveToPose).\n",
      "INFO:motion:Computed Cartesian trajectory: 1 waypoint, duration 0.32 seconds.\n",
      "INFO:panda:Starting new controller (Trajectory).\n"
     ]
    },
    {
     "name": "stdout",
     "output_type": "stream",
     "text": [
      "Saved ./hand_in_eye/rgb/5.png\n",
      "Saved ./hand_in_eye/depth/5.npy\n",
      "Saved pose to ./hand_in_eye/poses/pose_5.npy\n"
     ]
    },
    {
     "name": "stderr",
     "output_type": "stream",
     "text": [
      "ERROR:panda:Control loop interruped: Motion finished commanded, but the robot is still moving! [\"joint_motion_generator_acceleration_discontinuity\"]\n",
      "control_command_success_rate: 1\n",
      "INFO:panda:Stopping active controller (Trajectory).\n",
      "WARNING:panda:Irregular state detected. Attempting automatic error recovery.\n",
      "INFO:panda:Initializing motion generation (moveToPose).\n",
      "INFO:motion:Computed Cartesian trajectory: 1 waypoint, duration 0.20 seconds.\n",
      "INFO:panda:Starting new controller (Trajectory).\n"
     ]
    },
    {
     "name": "stdout",
     "output_type": "stream",
     "text": [
      "Saved ./hand_in_eye/rgb/6.png\n",
      "Saved ./hand_in_eye/depth/6.npy\n",
      "Saved pose to ./hand_in_eye/poses/pose_6.npy\n"
     ]
    },
    {
     "name": "stderr",
     "output_type": "stream",
     "text": [
      "INFO:panda:Stopping active controller (Trajectory).\n",
      "INFO:panda:Initializing motion generation (moveToPose).\n",
      "INFO:motion:Computed Cartesian trajectory: 1 waypoint, duration 0.23 seconds.\n",
      "INFO:panda:Starting new controller (Trajectory).\n"
     ]
    },
    {
     "name": "stdout",
     "output_type": "stream",
     "text": [
      "Saved ./hand_in_eye/rgb/7.png\n",
      "Saved ./hand_in_eye/depth/7.npy\n",
      "Saved pose to ./hand_in_eye/poses/pose_7.npy\n"
     ]
    },
    {
     "name": "stderr",
     "output_type": "stream",
     "text": [
      "INFO:panda:Stopping active controller (Trajectory).\n",
      "INFO:panda:Initializing motion generation (moveToPose).\n",
      "INFO:motion:Computed Cartesian trajectory: 1 waypoint, duration 0.25 seconds.\n",
      "INFO:panda:Starting new controller (Trajectory).\n"
     ]
    },
    {
     "name": "stdout",
     "output_type": "stream",
     "text": [
      "Saved ./hand_in_eye/rgb/8.png\n",
      "Saved ./hand_in_eye/depth/8.npy\n",
      "Saved pose to ./hand_in_eye/poses/pose_8.npy\n"
     ]
    },
    {
     "name": "stderr",
     "output_type": "stream",
     "text": [
      "INFO:panda:Stopping active controller (Trajectory).\n",
      "INFO:panda:Initializing motion generation (moveToPose).\n",
      "INFO:motion:Computed Cartesian trajectory: 1 waypoint, duration 0.21 seconds.\n",
      "INFO:panda:Starting new controller (Trajectory).\n"
     ]
    },
    {
     "name": "stdout",
     "output_type": "stream",
     "text": [
      "Saved ./hand_in_eye/rgb/9.png\n",
      "Saved ./hand_in_eye/depth/9.npy\n",
      "Saved pose to ./hand_in_eye/poses/pose_9.npy\n"
     ]
    },
    {
     "name": "stderr",
     "output_type": "stream",
     "text": [
      "INFO:panda:Stopping active controller (Trajectory).\n",
      "INFO:panda:Initializing motion generation (moveToPose).\n",
      "INFO:motion:Computed Cartesian trajectory: 1 waypoint, duration 0.25 seconds.\n",
      "INFO:panda:Starting new controller (Trajectory).\n"
     ]
    },
    {
     "name": "stdout",
     "output_type": "stream",
     "text": [
      "Saved ./hand_in_eye/rgb/10.png\n",
      "Saved ./hand_in_eye/depth/10.npy\n",
      "Saved pose to ./hand_in_eye/poses/pose_10.npy\n"
     ]
    },
    {
     "name": "stderr",
     "output_type": "stream",
     "text": [
      "INFO:panda:Stopping active controller (Trajectory).\n",
      "INFO:panda:Initializing motion generation (moveToPose).\n",
      "INFO:motion:Computed Cartesian trajectory: 1 waypoint, duration 0.23 seconds.\n",
      "INFO:panda:Starting new controller (Trajectory).\n"
     ]
    },
    {
     "name": "stdout",
     "output_type": "stream",
     "text": [
      "Saved ./hand_in_eye/rgb/11.png\n",
      "Saved ./hand_in_eye/depth/11.npy\n",
      "Saved pose to ./hand_in_eye/poses/pose_11.npy\n"
     ]
    },
    {
     "name": "stderr",
     "output_type": "stream",
     "text": [
      "INFO:panda:Stopping active controller (Trajectory).\n",
      "INFO:panda:Initializing motion generation (moveToPose).\n",
      "INFO:motion:Computed Cartesian trajectory: 1 waypoint, duration 0.29 seconds.\n",
      "INFO:panda:Starting new controller (Trajectory).\n"
     ]
    },
    {
     "name": "stdout",
     "output_type": "stream",
     "text": [
      "Saved ./hand_in_eye/rgb/12.png\n",
      "Saved ./hand_in_eye/depth/12.npy\n",
      "Saved pose to ./hand_in_eye/poses/pose_12.npy\n"
     ]
    },
    {
     "name": "stderr",
     "output_type": "stream",
     "text": [
      "INFO:panda:Stopping active controller (Trajectory).\n",
      "INFO:panda:Initializing motion generation (moveToPose).\n",
      "INFO:motion:Computed Cartesian trajectory: 1 waypoint, duration 0.17 seconds.\n",
      "INFO:panda:Starting new controller (Trajectory).\n"
     ]
    },
    {
     "name": "stdout",
     "output_type": "stream",
     "text": [
      "Saved ./hand_in_eye/rgb/13.png\n",
      "Saved ./hand_in_eye/depth/13.npy\n",
      "Saved pose to ./hand_in_eye/poses/pose_13.npy\n"
     ]
    },
    {
     "name": "stderr",
     "output_type": "stream",
     "text": [
      "INFO:panda:Stopping active controller (Trajectory).\n",
      "INFO:panda:Initializing motion generation (moveToPose).\n",
      "INFO:motion:Computed Cartesian trajectory: 1 waypoint, duration 0.14 seconds.\n",
      "INFO:panda:Starting new controller (Trajectory).\n"
     ]
    },
    {
     "name": "stdout",
     "output_type": "stream",
     "text": [
      "Saved ./hand_in_eye/rgb/14.png\n",
      "Saved ./hand_in_eye/depth/14.npy\n",
      "Saved pose to ./hand_in_eye/poses/pose_14.npy\n"
     ]
    },
    {
     "name": "stderr",
     "output_type": "stream",
     "text": [
      "INFO:panda:Stopping active controller (Trajectory).\n",
      "INFO:panda:Initializing motion generation (moveToPose).\n",
      "INFO:motion:Computed Cartesian trajectory: 1 waypoint, duration 0.16 seconds.\n",
      "INFO:panda:Starting new controller (Trajectory).\n"
     ]
    },
    {
     "name": "stdout",
     "output_type": "stream",
     "text": [
      "Saved ./hand_in_eye/rgb/15.png\n",
      "Saved ./hand_in_eye/depth/15.npy\n",
      "Saved pose to ./hand_in_eye/poses/pose_15.npy\n"
     ]
    },
    {
     "name": "stderr",
     "output_type": "stream",
     "text": [
      "INFO:panda:Stopping active controller (Trajectory).\n",
      "INFO:panda:Initializing motion generation (moveToPose).\n",
      "INFO:motion:Computed Cartesian trajectory: 1 waypoint, duration 0.28 seconds.\n",
      "INFO:panda:Starting new controller (Trajectory).\n"
     ]
    },
    {
     "name": "stdout",
     "output_type": "stream",
     "text": [
      "Saved ./hand_in_eye/rgb/16.png\n",
      "Saved ./hand_in_eye/depth/16.npy\n",
      "Saved pose to ./hand_in_eye/poses/pose_16.npy\n"
     ]
    },
    {
     "name": "stderr",
     "output_type": "stream",
     "text": [
      "INFO:panda:Stopping active controller (Trajectory).\n",
      "INFO:panda:Initializing motion generation (moveToPose).\n",
      "INFO:motion:Computed Cartesian trajectory: 1 waypoint, duration 0.19 seconds.\n",
      "INFO:panda:Starting new controller (Trajectory).\n"
     ]
    },
    {
     "name": "stdout",
     "output_type": "stream",
     "text": [
      "Saved ./hand_in_eye/rgb/17.png\n",
      "Saved ./hand_in_eye/depth/17.npy\n",
      "Saved pose to ./hand_in_eye/poses/pose_17.npy\n"
     ]
    },
    {
     "name": "stderr",
     "output_type": "stream",
     "text": [
      "INFO:panda:Stopping active controller (Trajectory).\n",
      "INFO:panda:Initializing motion generation (moveToPose).\n",
      "INFO:motion:Computed Cartesian trajectory: 1 waypoint, duration 0.14 seconds.\n",
      "INFO:panda:Starting new controller (Trajectory).\n"
     ]
    },
    {
     "name": "stdout",
     "output_type": "stream",
     "text": [
      "Saved ./hand_in_eye/rgb/18.png\n",
      "Saved ./hand_in_eye/depth/18.npy\n",
      "Saved pose to ./hand_in_eye/poses/pose_18.npy\n"
     ]
    },
    {
     "name": "stderr",
     "output_type": "stream",
     "text": [
      "INFO:panda:Stopping active controller (Trajectory).\n",
      "INFO:panda:Initializing motion generation (moveToPose).\n",
      "INFO:motion:Computed Cartesian trajectory: 1 waypoint, duration 0.31 seconds.\n",
      "INFO:panda:Starting new controller (Trajectory).\n"
     ]
    },
    {
     "name": "stdout",
     "output_type": "stream",
     "text": [
      "Saved ./hand_in_eye/rgb/19.png\n",
      "Saved ./hand_in_eye/depth/19.npy\n",
      "Saved pose to ./hand_in_eye/poses/pose_19.npy\n"
     ]
    },
    {
     "name": "stderr",
     "output_type": "stream",
     "text": [
      "INFO:panda:Stopping active controller (Trajectory).\n",
      "INFO:panda:Initializing motion generation (moveToPose).\n",
      "INFO:motion:Computed Cartesian trajectory: 1 waypoint, duration 0.16 seconds.\n",
      "INFO:panda:Starting new controller (Trajectory).\n"
     ]
    },
    {
     "name": "stdout",
     "output_type": "stream",
     "text": [
      "Saved ./hand_in_eye/rgb/20.png\n",
      "Saved ./hand_in_eye/depth/20.npy\n",
      "Saved pose to ./hand_in_eye/poses/pose_20.npy\n"
     ]
    },
    {
     "name": "stderr",
     "output_type": "stream",
     "text": [
      "ERROR:panda:Control loop interruped: Motion finished commanded, but the robot is still moving! [\"joint_motion_generator_acceleration_discontinuity\"]\n",
      "control_command_success_rate: 1\n",
      "INFO:panda:Stopping active controller (Trajectory).\n",
      "WARNING:panda:Irregular state detected. Attempting automatic error recovery.\n",
      "INFO:panda:Initializing motion generation (moveToPose).\n",
      "INFO:motion:Computed Cartesian trajectory: 1 waypoint, duration 0.22 seconds.\n",
      "INFO:panda:Starting new controller (Trajectory).\n"
     ]
    },
    {
     "name": "stdout",
     "output_type": "stream",
     "text": [
      "Saved ./hand_in_eye/rgb/21.png\n",
      "Saved ./hand_in_eye/depth/21.npy\n",
      "Saved pose to ./hand_in_eye/poses/pose_21.npy\n"
     ]
    },
    {
     "name": "stderr",
     "output_type": "stream",
     "text": [
      "INFO:panda:Stopping active controller (Trajectory).\n",
      "INFO:panda:Initializing motion generation (moveToPose).\n",
      "INFO:motion:Computed Cartesian trajectory: 1 waypoint, duration 0.25 seconds.\n",
      "INFO:panda:Starting new controller (Trajectory).\n"
     ]
    },
    {
     "name": "stdout",
     "output_type": "stream",
     "text": [
      "Saved ./hand_in_eye/rgb/22.png\n",
      "Saved ./hand_in_eye/depth/22.npy\n",
      "Saved pose to ./hand_in_eye/poses/pose_22.npy\n"
     ]
    },
    {
     "name": "stderr",
     "output_type": "stream",
     "text": [
      "INFO:panda:Stopping active controller (Trajectory).\n",
      "INFO:panda:Initializing motion generation (moveToPose).\n",
      "INFO:motion:Computed Cartesian trajectory: 1 waypoint, duration 0.28 seconds.\n",
      "INFO:panda:Starting new controller (Trajectory).\n"
     ]
    },
    {
     "name": "stdout",
     "output_type": "stream",
     "text": [
      "Saved ./hand_in_eye/rgb/23.png\n",
      "Saved ./hand_in_eye/depth/23.npy\n",
      "Saved pose to ./hand_in_eye/poses/pose_23.npy\n"
     ]
    },
    {
     "name": "stderr",
     "output_type": "stream",
     "text": [
      "INFO:panda:Stopping active controller (Trajectory).\n",
      "INFO:panda:Initializing motion generation (moveToPose).\n",
      "INFO:motion:Computed Cartesian trajectory: 1 waypoint, duration 0.19 seconds.\n",
      "INFO:panda:Starting new controller (Trajectory).\n"
     ]
    },
    {
     "name": "stdout",
     "output_type": "stream",
     "text": [
      "Saved ./hand_in_eye/rgb/24.png\n",
      "Saved ./hand_in_eye/depth/24.npy\n",
      "Saved pose to ./hand_in_eye/poses/pose_24.npy\n"
     ]
    },
    {
     "name": "stderr",
     "output_type": "stream",
     "text": [
      "ERROR:panda:Control loop interruped: Motion finished commanded, but the robot is still moving! [\"joint_motion_generator_acceleration_discontinuity\"]\n",
      "control_command_success_rate: 1\n",
      "INFO:panda:Stopping active controller (Trajectory).\n",
      "WARNING:panda:Irregular state detected. Attempting automatic error recovery.\n",
      "INFO:panda:Initializing motion generation (moveToPose).\n",
      "INFO:motion:Computed Cartesian trajectory: 1 waypoint, duration 0.20 seconds.\n",
      "INFO:panda:Starting new controller (Trajectory).\n"
     ]
    },
    {
     "name": "stdout",
     "output_type": "stream",
     "text": [
      "Saved ./hand_in_eye/rgb/25.png\n",
      "Saved ./hand_in_eye/depth/25.npy\n",
      "Saved pose to ./hand_in_eye/poses/pose_25.npy\n"
     ]
    },
    {
     "name": "stderr",
     "output_type": "stream",
     "text": [
      "INFO:panda:Stopping active controller (Trajectory).\n",
      "INFO:panda:Initializing motion generation (moveToPose).\n",
      "INFO:motion:Computed Cartesian trajectory: 1 waypoint, duration 0.18 seconds.\n",
      "INFO:panda:Starting new controller (Trajectory).\n"
     ]
    },
    {
     "name": "stdout",
     "output_type": "stream",
     "text": [
      "Saved ./hand_in_eye/rgb/26.png\n",
      "Saved ./hand_in_eye/depth/26.npy\n",
      "Saved pose to ./hand_in_eye/poses/pose_26.npy\n"
     ]
    },
    {
     "name": "stderr",
     "output_type": "stream",
     "text": [
      "INFO:panda:Stopping active controller (Trajectory).\n",
      "INFO:panda:Initializing motion generation (moveToPose).\n",
      "INFO:motion:Computed Cartesian trajectory: 1 waypoint, duration 0.15 seconds.\n",
      "INFO:panda:Starting new controller (Trajectory).\n"
     ]
    },
    {
     "name": "stdout",
     "output_type": "stream",
     "text": [
      "Saved ./hand_in_eye/rgb/27.png\n",
      "Saved ./hand_in_eye/depth/27.npy\n",
      "Saved pose to ./hand_in_eye/poses/pose_27.npy\n"
     ]
    },
    {
     "name": "stderr",
     "output_type": "stream",
     "text": [
      "INFO:panda:Stopping active controller (Trajectory).\n",
      "INFO:panda:Initializing motion generation (moveToPose).\n",
      "INFO:motion:Computed Cartesian trajectory: 1 waypoint, duration 0.28 seconds.\n",
      "INFO:panda:Starting new controller (Trajectory).\n"
     ]
    },
    {
     "name": "stdout",
     "output_type": "stream",
     "text": [
      "Saved ./hand_in_eye/rgb/28.png\n",
      "Saved ./hand_in_eye/depth/28.npy\n",
      "Saved pose to ./hand_in_eye/poses/pose_28.npy\n"
     ]
    },
    {
     "name": "stderr",
     "output_type": "stream",
     "text": [
      "INFO:panda:Stopping active controller (Trajectory).\n",
      "INFO:panda:Initializing motion generation (moveToJointPosition).\n",
      "INFO:motion:Computed joint trajectory: 1 waypoint, duration 1.68 seconds.\n",
      "INFO:panda:Starting new controller (Trajectory).\n"
     ]
    },
    {
     "name": "stdout",
     "output_type": "stream",
     "text": [
      "Saved ./hand_in_eye/rgb/29.png\n",
      "Saved ./hand_in_eye/depth/29.npy\n",
      "Saved pose to ./hand_in_eye/poses/pose_29.npy\n"
     ]
    },
    {
     "name": "stderr",
     "output_type": "stream",
     "text": [
      "INFO:panda:Stopping active controller (Trajectory).\n",
      "INFO:panda:Initializing motion generation (moveToPose).\n",
      "INFO:motion:Computed Cartesian trajectory: 1 waypoint, duration 1.11 seconds.\n",
      "INFO:panda:Starting new controller (Trajectory).\n",
      "INFO:panda:Stopping active controller (Trajectory).\n",
      "INFO:panda:Initializing motion generation (moveToPose).\n",
      "INFO:motion:Computed Cartesian trajectory: 1 waypoint, duration 0.20 seconds.\n",
      "INFO:panda:Starting new controller (Trajectory).\n"
     ]
    },
    {
     "name": "stdout",
     "output_type": "stream",
     "text": [
      "Saved ./hand_in_eye/rgb/30.png\n",
      "Saved ./hand_in_eye/depth/30.npy\n",
      "Saved pose to ./hand_in_eye/poses/pose_30.npy\n"
     ]
    },
    {
     "name": "stderr",
     "output_type": "stream",
     "text": [
      "INFO:panda:Stopping active controller (Trajectory).\n",
      "INFO:panda:Initializing motion generation (moveToPose).\n",
      "INFO:motion:Computed Cartesian trajectory: 1 waypoint, duration 0.26 seconds.\n",
      "INFO:panda:Starting new controller (Trajectory).\n"
     ]
    },
    {
     "name": "stdout",
     "output_type": "stream",
     "text": [
      "Saved ./hand_in_eye/rgb/31.png\n",
      "Saved ./hand_in_eye/depth/31.npy\n",
      "Saved pose to ./hand_in_eye/poses/pose_31.npy\n"
     ]
    },
    {
     "name": "stderr",
     "output_type": "stream",
     "text": [
      "INFO:panda:Stopping active controller (Trajectory).\n",
      "INFO:panda:Initializing motion generation (moveToPose).\n",
      "INFO:motion:Computed Cartesian trajectory: 1 waypoint, duration 0.16 seconds.\n",
      "INFO:panda:Starting new controller (Trajectory).\n"
     ]
    },
    {
     "name": "stdout",
     "output_type": "stream",
     "text": [
      "Saved ./hand_in_eye/rgb/32.png\n",
      "Saved ./hand_in_eye/depth/32.npy\n",
      "Saved pose to ./hand_in_eye/poses/pose_32.npy\n"
     ]
    },
    {
     "name": "stderr",
     "output_type": "stream",
     "text": [
      "INFO:panda:Stopping active controller (Trajectory).\n",
      "INFO:panda:Initializing motion generation (moveToPose).\n",
      "INFO:motion:Computed Cartesian trajectory: 1 waypoint, duration 0.19 seconds.\n",
      "INFO:panda:Starting new controller (Trajectory).\n"
     ]
    },
    {
     "name": "stdout",
     "output_type": "stream",
     "text": [
      "Saved ./hand_in_eye/rgb/33.png\n",
      "Saved ./hand_in_eye/depth/33.npy\n",
      "Saved pose to ./hand_in_eye/poses/pose_33.npy\n"
     ]
    },
    {
     "name": "stderr",
     "output_type": "stream",
     "text": [
      "INFO:panda:Stopping active controller (Trajectory).\n",
      "INFO:panda:Initializing motion generation (moveToPose).\n",
      "INFO:motion:Computed Cartesian trajectory: 1 waypoint, duration 0.25 seconds.\n",
      "INFO:panda:Starting new controller (Trajectory).\n"
     ]
    },
    {
     "name": "stdout",
     "output_type": "stream",
     "text": [
      "Saved ./hand_in_eye/rgb/34.png\n",
      "Saved ./hand_in_eye/depth/34.npy\n",
      "Saved pose to ./hand_in_eye/poses/pose_34.npy\n"
     ]
    },
    {
     "name": "stderr",
     "output_type": "stream",
     "text": [
      "INFO:panda:Stopping active controller (Trajectory).\n",
      "INFO:panda:Initializing motion generation (moveToPose).\n",
      "INFO:motion:Computed Cartesian trajectory: 1 waypoint, duration 0.18 seconds.\n",
      "INFO:panda:Starting new controller (Trajectory).\n"
     ]
    },
    {
     "name": "stdout",
     "output_type": "stream",
     "text": [
      "Saved ./hand_in_eye/rgb/35.png\n",
      "Saved ./hand_in_eye/depth/35.npy\n",
      "Saved pose to ./hand_in_eye/poses/pose_35.npy\n"
     ]
    },
    {
     "name": "stderr",
     "output_type": "stream",
     "text": [
      "ERROR:panda:Control loop interruped: Motion finished commanded, but the robot is still moving! [\"joint_motion_generator_acceleration_discontinuity\"]\n",
      "control_command_success_rate: 1\n",
      "INFO:panda:Stopping active controller (Trajectory).\n",
      "WARNING:panda:Irregular state detected. Attempting automatic error recovery.\n",
      "INFO:panda:Initializing motion generation (moveToPose).\n",
      "INFO:motion:Computed Cartesian trajectory: 1 waypoint, duration 0.20 seconds.\n",
      "INFO:panda:Starting new controller (Trajectory).\n"
     ]
    },
    {
     "name": "stdout",
     "output_type": "stream",
     "text": [
      "Saved ./hand_in_eye/rgb/36.png\n",
      "Saved ./hand_in_eye/depth/36.npy\n",
      "Saved pose to ./hand_in_eye/poses/pose_36.npy\n"
     ]
    },
    {
     "name": "stderr",
     "output_type": "stream",
     "text": [
      "INFO:panda:Stopping active controller (Trajectory).\n",
      "INFO:panda:Initializing motion generation (moveToPose).\n",
      "INFO:motion:Computed Cartesian trajectory: 1 waypoint, duration 0.19 seconds.\n",
      "INFO:panda:Starting new controller (Trajectory).\n"
     ]
    },
    {
     "name": "stdout",
     "output_type": "stream",
     "text": [
      "Saved ./hand_in_eye/rgb/37.png\n",
      "Saved ./hand_in_eye/depth/37.npy\n",
      "Saved pose to ./hand_in_eye/poses/pose_37.npy\n"
     ]
    },
    {
     "name": "stderr",
     "output_type": "stream",
     "text": [
      "INFO:panda:Stopping active controller (Trajectory).\n",
      "INFO:panda:Initializing motion generation (moveToPose).\n",
      "INFO:motion:Computed Cartesian trajectory: 1 waypoint, duration 0.30 seconds.\n",
      "INFO:panda:Starting new controller (Trajectory).\n"
     ]
    },
    {
     "name": "stdout",
     "output_type": "stream",
     "text": [
      "Saved ./hand_in_eye/rgb/38.png\n",
      "Saved ./hand_in_eye/depth/38.npy\n",
      "Saved pose to ./hand_in_eye/poses/pose_38.npy\n"
     ]
    },
    {
     "name": "stderr",
     "output_type": "stream",
     "text": [
      "INFO:panda:Stopping active controller (Trajectory).\n",
      "INFO:panda:Initializing motion generation (moveToPose).\n",
      "INFO:motion:Computed Cartesian trajectory: 1 waypoint, duration 0.21 seconds.\n",
      "INFO:panda:Starting new controller (Trajectory).\n"
     ]
    },
    {
     "name": "stdout",
     "output_type": "stream",
     "text": [
      "Saved ./hand_in_eye/rgb/39.png\n",
      "Saved ./hand_in_eye/depth/39.npy\n",
      "Saved pose to ./hand_in_eye/poses/pose_39.npy\n"
     ]
    },
    {
     "name": "stderr",
     "output_type": "stream",
     "text": [
      "INFO:panda:Stopping active controller (Trajectory).\n",
      "INFO:panda:Initializing motion generation (moveToPose).\n",
      "INFO:motion:Computed Cartesian trajectory: 1 waypoint, duration 0.25 seconds.\n",
      "INFO:panda:Starting new controller (Trajectory).\n"
     ]
    },
    {
     "name": "stdout",
     "output_type": "stream",
     "text": [
      "Saved ./hand_in_eye/rgb/40.png\n",
      "Saved ./hand_in_eye/depth/40.npy\n",
      "Saved pose to ./hand_in_eye/poses/pose_40.npy\n"
     ]
    },
    {
     "name": "stderr",
     "output_type": "stream",
     "text": [
      "INFO:panda:Stopping active controller (Trajectory).\n",
      "INFO:panda:Initializing motion generation (moveToPose).\n",
      "INFO:motion:Computed Cartesian trajectory: 1 waypoint, duration 0.17 seconds.\n",
      "INFO:panda:Starting new controller (Trajectory).\n"
     ]
    },
    {
     "name": "stdout",
     "output_type": "stream",
     "text": [
      "Saved ./hand_in_eye/rgb/41.png\n",
      "Saved ./hand_in_eye/depth/41.npy\n",
      "Saved pose to ./hand_in_eye/poses/pose_41.npy\n"
     ]
    },
    {
     "name": "stderr",
     "output_type": "stream",
     "text": [
      "ERROR:panda:Control loop interruped: Motion finished commanded, but the robot is still moving! [\"joint_motion_generator_acceleration_discontinuity\"]\n",
      "control_command_success_rate: 1\n",
      "INFO:panda:Stopping active controller (Trajectory).\n",
      "WARNING:panda:Irregular state detected. Attempting automatic error recovery.\n",
      "INFO:panda:Initializing motion generation (moveToPose).\n",
      "INFO:motion:Computed Cartesian trajectory: 1 waypoint, duration 0.18 seconds.\n",
      "INFO:panda:Starting new controller (Trajectory).\n"
     ]
    },
    {
     "name": "stdout",
     "output_type": "stream",
     "text": [
      "Saved ./hand_in_eye/rgb/42.png\n",
      "Saved ./hand_in_eye/depth/42.npy\n",
      "Saved pose to ./hand_in_eye/poses/pose_42.npy\n"
     ]
    },
    {
     "name": "stderr",
     "output_type": "stream",
     "text": [
      "INFO:panda:Stopping active controller (Trajectory).\n",
      "INFO:panda:Initializing motion generation (moveToPose).\n",
      "INFO:motion:Computed Cartesian trajectory: 1 waypoint, duration 0.18 seconds.\n",
      "INFO:panda:Starting new controller (Trajectory).\n"
     ]
    },
    {
     "name": "stdout",
     "output_type": "stream",
     "text": [
      "Saved ./hand_in_eye/rgb/43.png\n",
      "Saved ./hand_in_eye/depth/43.npy\n",
      "Saved pose to ./hand_in_eye/poses/pose_43.npy\n"
     ]
    },
    {
     "name": "stderr",
     "output_type": "stream",
     "text": [
      "INFO:panda:Stopping active controller (Trajectory).\n",
      "INFO:panda:Initializing motion generation (moveToPose).\n",
      "INFO:motion:Computed Cartesian trajectory: 1 waypoint, duration 0.28 seconds.\n",
      "INFO:panda:Starting new controller (Trajectory).\n"
     ]
    },
    {
     "name": "stdout",
     "output_type": "stream",
     "text": [
      "Saved ./hand_in_eye/rgb/44.png\n",
      "Saved ./hand_in_eye/depth/44.npy\n",
      "Saved pose to ./hand_in_eye/poses/pose_44.npy\n"
     ]
    },
    {
     "name": "stderr",
     "output_type": "stream",
     "text": [
      "INFO:panda:Stopping active controller (Trajectory).\n",
      "INFO:panda:Initializing motion generation (moveToPose).\n",
      "INFO:motion:Computed Cartesian trajectory: 1 waypoint, duration 0.28 seconds.\n",
      "INFO:panda:Starting new controller (Trajectory).\n"
     ]
    },
    {
     "name": "stdout",
     "output_type": "stream",
     "text": [
      "Saved ./hand_in_eye/rgb/45.png\n",
      "Saved ./hand_in_eye/depth/45.npy\n",
      "Saved pose to ./hand_in_eye/poses/pose_45.npy\n"
     ]
    },
    {
     "name": "stderr",
     "output_type": "stream",
     "text": [
      "INFO:panda:Stopping active controller (Trajectory).\n",
      "INFO:panda:Initializing motion generation (moveToPose).\n",
      "INFO:motion:Computed Cartesian trajectory: 1 waypoint, duration 0.26 seconds.\n",
      "INFO:panda:Starting new controller (Trajectory).\n"
     ]
    },
    {
     "name": "stdout",
     "output_type": "stream",
     "text": [
      "Saved ./hand_in_eye/rgb/46.png\n",
      "Saved ./hand_in_eye/depth/46.npy\n",
      "Saved pose to ./hand_in_eye/poses/pose_46.npy\n"
     ]
    },
    {
     "name": "stderr",
     "output_type": "stream",
     "text": [
      "INFO:panda:Stopping active controller (Trajectory).\n",
      "INFO:panda:Initializing motion generation (moveToPose).\n",
      "INFO:motion:Computed Cartesian trajectory: 1 waypoint, duration 0.27 seconds.\n",
      "INFO:panda:Starting new controller (Trajectory).\n"
     ]
    },
    {
     "name": "stdout",
     "output_type": "stream",
     "text": [
      "Saved ./hand_in_eye/rgb/47.png\n",
      "Saved ./hand_in_eye/depth/47.npy\n",
      "Saved pose to ./hand_in_eye/poses/pose_47.npy\n"
     ]
    },
    {
     "name": "stderr",
     "output_type": "stream",
     "text": [
      "INFO:panda:Stopping active controller (Trajectory).\n",
      "INFO:panda:Initializing motion generation (moveToPose).\n",
      "INFO:motion:Computed Cartesian trajectory: 1 waypoint, duration 0.33 seconds.\n",
      "INFO:panda:Starting new controller (Trajectory).\n"
     ]
    },
    {
     "name": "stdout",
     "output_type": "stream",
     "text": [
      "Saved ./hand_in_eye/rgb/48.png\n",
      "Saved ./hand_in_eye/depth/48.npy\n",
      "Saved pose to ./hand_in_eye/poses/pose_48.npy\n"
     ]
    },
    {
     "name": "stderr",
     "output_type": "stream",
     "text": [
      "INFO:panda:Stopping active controller (Trajectory).\n",
      "INFO:panda:Initializing motion generation (moveToPose).\n",
      "INFO:motion:Computed Cartesian trajectory: 1 waypoint, duration 0.37 seconds.\n",
      "INFO:panda:Starting new controller (Trajectory).\n"
     ]
    },
    {
     "name": "stdout",
     "output_type": "stream",
     "text": [
      "Saved ./hand_in_eye/rgb/49.png\n",
      "Saved ./hand_in_eye/depth/49.npy\n",
      "Saved pose to ./hand_in_eye/poses/pose_49.npy\n"
     ]
    },
    {
     "name": "stderr",
     "output_type": "stream",
     "text": [
      "ERROR:panda:Control loop interruped: Motion finished commanded, but the robot is still moving! [\"joint_motion_generator_acceleration_discontinuity\"]\n",
      "control_command_success_rate: 1\n",
      "INFO:panda:Stopping active controller (Trajectory).\n",
      "WARNING:panda:Irregular state detected. Attempting automatic error recovery.\n",
      "INFO:panda:Initializing motion generation (moveToPose).\n",
      "INFO:motion:Computed Cartesian trajectory: 1 waypoint, duration 0.27 seconds.\n",
      "INFO:panda:Starting new controller (Trajectory).\n"
     ]
    },
    {
     "name": "stdout",
     "output_type": "stream",
     "text": [
      "Saved ./hand_in_eye/rgb/50.png\n",
      "Saved ./hand_in_eye/depth/50.npy\n",
      "Saved pose to ./hand_in_eye/poses/pose_50.npy\n"
     ]
    },
    {
     "name": "stderr",
     "output_type": "stream",
     "text": [
      "INFO:panda:Stopping active controller (Trajectory).\n",
      "INFO:panda:Initializing motion generation (moveToPose).\n",
      "INFO:motion:Computed Cartesian trajectory: 1 waypoint, duration 0.19 seconds.\n",
      "INFO:panda:Starting new controller (Trajectory).\n"
     ]
    },
    {
     "name": "stdout",
     "output_type": "stream",
     "text": [
      "Saved ./hand_in_eye/rgb/51.png\n",
      "Saved ./hand_in_eye/depth/51.npy\n",
      "Saved pose to ./hand_in_eye/poses/pose_51.npy\n"
     ]
    },
    {
     "name": "stderr",
     "output_type": "stream",
     "text": [
      "INFO:panda:Stopping active controller (Trajectory).\n",
      "INFO:panda:Initializing motion generation (moveToPose).\n",
      "INFO:motion:Computed Cartesian trajectory: 1 waypoint, duration 0.17 seconds.\n",
      "INFO:panda:Starting new controller (Trajectory).\n"
     ]
    },
    {
     "name": "stdout",
     "output_type": "stream",
     "text": [
      "Saved ./hand_in_eye/rgb/52.png\n",
      "Saved ./hand_in_eye/depth/52.npy\n",
      "Saved pose to ./hand_in_eye/poses/pose_52.npy\n"
     ]
    },
    {
     "name": "stderr",
     "output_type": "stream",
     "text": [
      "ERROR:panda:Control loop interruped: Motion finished commanded, but the robot is still moving! [\"joint_motion_generator_acceleration_discontinuity\"]\n",
      "control_command_success_rate: 1\n",
      "INFO:panda:Stopping active controller (Trajectory).\n",
      "WARNING:panda:Irregular state detected. Attempting automatic error recovery.\n",
      "INFO:panda:Initializing motion generation (moveToPose).\n",
      "INFO:motion:Computed Cartesian trajectory: 1 waypoint, duration 0.25 seconds.\n",
      "INFO:panda:Starting new controller (Trajectory).\n"
     ]
    },
    {
     "name": "stdout",
     "output_type": "stream",
     "text": [
      "Saved ./hand_in_eye/rgb/53.png\n",
      "Saved ./hand_in_eye/depth/53.npy\n",
      "Saved pose to ./hand_in_eye/poses/pose_53.npy\n"
     ]
    },
    {
     "name": "stderr",
     "output_type": "stream",
     "text": [
      "INFO:panda:Stopping active controller (Trajectory).\n",
      "INFO:panda:Initializing motion generation (moveToPose).\n",
      "INFO:motion:Computed Cartesian trajectory: 1 waypoint, duration 0.14 seconds.\n",
      "INFO:panda:Starting new controller (Trajectory).\n"
     ]
    },
    {
     "name": "stdout",
     "output_type": "stream",
     "text": [
      "Saved ./hand_in_eye/rgb/54.png\n",
      "Saved ./hand_in_eye/depth/54.npy\n",
      "Saved pose to ./hand_in_eye/poses/pose_54.npy\n"
     ]
    },
    {
     "name": "stderr",
     "output_type": "stream",
     "text": [
      "INFO:panda:Stopping active controller (Trajectory).\n",
      "INFO:panda:Initializing motion generation (moveToPose).\n",
      "INFO:motion:Computed Cartesian trajectory: 1 waypoint, duration 0.18 seconds.\n",
      "INFO:panda:Starting new controller (Trajectory).\n"
     ]
    },
    {
     "name": "stdout",
     "output_type": "stream",
     "text": [
      "Saved ./hand_in_eye/rgb/55.png\n",
      "Saved ./hand_in_eye/depth/55.npy\n",
      "Saved pose to ./hand_in_eye/poses/pose_55.npy\n"
     ]
    },
    {
     "name": "stderr",
     "output_type": "stream",
     "text": [
      "INFO:panda:Stopping active controller (Trajectory).\n",
      "INFO:panda:Initializing motion generation (moveToPose).\n",
      "INFO:motion:Computed Cartesian trajectory: 1 waypoint, duration 0.14 seconds.\n",
      "INFO:panda:Starting new controller (Trajectory).\n"
     ]
    },
    {
     "name": "stdout",
     "output_type": "stream",
     "text": [
      "Saved ./hand_in_eye/rgb/56.png\n",
      "Saved ./hand_in_eye/depth/56.npy\n",
      "Saved pose to ./hand_in_eye/poses/pose_56.npy\n"
     ]
    },
    {
     "name": "stderr",
     "output_type": "stream",
     "text": [
      "INFO:panda:Stopping active controller (Trajectory).\n",
      "INFO:panda:Initializing motion generation (moveToPose).\n",
      "INFO:motion:Computed Cartesian trajectory: 1 waypoint, duration 0.19 seconds.\n",
      "INFO:panda:Starting new controller (Trajectory).\n"
     ]
    },
    {
     "name": "stdout",
     "output_type": "stream",
     "text": [
      "Saved ./hand_in_eye/rgb/57.png\n",
      "Saved ./hand_in_eye/depth/57.npy\n",
      "Saved pose to ./hand_in_eye/poses/pose_57.npy\n"
     ]
    },
    {
     "name": "stderr",
     "output_type": "stream",
     "text": [
      "INFO:panda:Stopping active controller (Trajectory).\n",
      "INFO:panda:Initializing motion generation (moveToPose).\n",
      "INFO:motion:Computed Cartesian trajectory: 1 waypoint, duration 0.20 seconds.\n",
      "INFO:panda:Starting new controller (Trajectory).\n"
     ]
    },
    {
     "name": "stdout",
     "output_type": "stream",
     "text": [
      "Saved ./hand_in_eye/rgb/58.png\n",
      "Saved ./hand_in_eye/depth/58.npy\n",
      "Saved pose to ./hand_in_eye/poses/pose_58.npy\n"
     ]
    },
    {
     "name": "stderr",
     "output_type": "stream",
     "text": [
      "INFO:panda:Stopping active controller (Trajectory).\n",
      "INFO:panda:Initializing motion generation (moveToJointPosition).\n",
      "INFO:motion:Computed joint trajectory: 1 waypoint, duration 2.19 seconds.\n",
      "INFO:panda:Starting new controller (Trajectory).\n"
     ]
    },
    {
     "name": "stdout",
     "output_type": "stream",
     "text": [
      "Saved ./hand_in_eye/rgb/59.png\n",
      "Saved ./hand_in_eye/depth/59.npy\n",
      "Saved pose to ./hand_in_eye/poses/pose_59.npy\n"
     ]
    },
    {
     "name": "stderr",
     "output_type": "stream",
     "text": [
      "ERROR:panda:Control loop interruped: Motion finished commanded, but the robot is still moving! [\"joint_motion_generator_acceleration_discontinuity\"]\n",
      "control_command_success_rate: 1\n",
      "INFO:panda:Stopping active controller (Trajectory).\n",
      "WARNING:panda:Irregular state detected. Attempting automatic error recovery.\n",
      "INFO:panda:Initializing motion generation (moveToPose).\n",
      "INFO:motion:Computed Cartesian trajectory: 1 waypoint, duration 1.13 seconds.\n",
      "INFO:panda:Starting new controller (Trajectory).\n",
      "INFO:panda:Stopping active controller (Trajectory).\n",
      "INFO:panda:Initializing motion generation (moveToPose).\n",
      "INFO:motion:Computed Cartesian trajectory: 1 waypoint, duration 0.27 seconds.\n",
      "INFO:panda:Starting new controller (Trajectory).\n"
     ]
    },
    {
     "name": "stdout",
     "output_type": "stream",
     "text": [
      "Saved ./hand_in_eye/rgb/60.png\n",
      "Saved ./hand_in_eye/depth/60.npy\n",
      "Saved pose to ./hand_in_eye/poses/pose_60.npy\n"
     ]
    },
    {
     "name": "stderr",
     "output_type": "stream",
     "text": [
      "INFO:panda:Stopping active controller (Trajectory).\n",
      "INFO:panda:Initializing motion generation (moveToPose).\n",
      "INFO:motion:Computed Cartesian trajectory: 1 waypoint, duration 0.20 seconds.\n",
      "INFO:panda:Starting new controller (Trajectory).\n"
     ]
    },
    {
     "name": "stdout",
     "output_type": "stream",
     "text": [
      "Saved ./hand_in_eye/rgb/61.png\n",
      "Saved ./hand_in_eye/depth/61.npy\n",
      "Saved pose to ./hand_in_eye/poses/pose_61.npy\n"
     ]
    },
    {
     "name": "stderr",
     "output_type": "stream",
     "text": [
      "INFO:panda:Stopping active controller (Trajectory).\n",
      "INFO:panda:Initializing motion generation (moveToPose).\n",
      "INFO:motion:Computed Cartesian trajectory: 1 waypoint, duration 0.24 seconds.\n",
      "INFO:panda:Starting new controller (Trajectory).\n"
     ]
    },
    {
     "name": "stdout",
     "output_type": "stream",
     "text": [
      "Saved ./hand_in_eye/rgb/62.png\n",
      "Saved ./hand_in_eye/depth/62.npy\n",
      "Saved pose to ./hand_in_eye/poses/pose_62.npy\n"
     ]
    },
    {
     "name": "stderr",
     "output_type": "stream",
     "text": [
      "INFO:panda:Stopping active controller (Trajectory).\n",
      "INFO:panda:Initializing motion generation (moveToPose).\n",
      "INFO:motion:Computed Cartesian trajectory: 1 waypoint, duration 0.25 seconds.\n",
      "INFO:panda:Starting new controller (Trajectory).\n"
     ]
    },
    {
     "name": "stdout",
     "output_type": "stream",
     "text": [
      "Saved ./hand_in_eye/rgb/63.png\n",
      "Saved ./hand_in_eye/depth/63.npy\n",
      "Saved pose to ./hand_in_eye/poses/pose_63.npy\n"
     ]
    },
    {
     "name": "stderr",
     "output_type": "stream",
     "text": [
      "INFO:panda:Stopping active controller (Trajectory).\n",
      "INFO:panda:Initializing motion generation (moveToPose).\n",
      "INFO:motion:Computed Cartesian trajectory: 1 waypoint, duration 0.21 seconds.\n",
      "INFO:panda:Starting new controller (Trajectory).\n"
     ]
    },
    {
     "name": "stdout",
     "output_type": "stream",
     "text": [
      "Saved ./hand_in_eye/rgb/64.png\n",
      "Saved ./hand_in_eye/depth/64.npy\n",
      "Saved pose to ./hand_in_eye/poses/pose_64.npy\n"
     ]
    },
    {
     "name": "stderr",
     "output_type": "stream",
     "text": [
      "INFO:panda:Stopping active controller (Trajectory).\n",
      "INFO:panda:Initializing motion generation (moveToPose).\n",
      "INFO:motion:Computed Cartesian trajectory: 1 waypoint, duration 0.27 seconds.\n",
      "INFO:panda:Starting new controller (Trajectory).\n"
     ]
    },
    {
     "name": "stdout",
     "output_type": "stream",
     "text": [
      "Saved ./hand_in_eye/rgb/65.png\n",
      "Saved ./hand_in_eye/depth/65.npy\n",
      "Saved pose to ./hand_in_eye/poses/pose_65.npy\n"
     ]
    },
    {
     "name": "stderr",
     "output_type": "stream",
     "text": [
      "INFO:panda:Stopping active controller (Trajectory).\n",
      "INFO:panda:Initializing motion generation (moveToPose).\n",
      "INFO:motion:Computed Cartesian trajectory: 1 waypoint, duration 0.31 seconds.\n",
      "INFO:panda:Starting new controller (Trajectory).\n"
     ]
    },
    {
     "name": "stdout",
     "output_type": "stream",
     "text": [
      "Saved ./hand_in_eye/rgb/66.png\n",
      "Saved ./hand_in_eye/depth/66.npy\n",
      "Saved pose to ./hand_in_eye/poses/pose_66.npy\n"
     ]
    },
    {
     "name": "stderr",
     "output_type": "stream",
     "text": [
      "INFO:panda:Stopping active controller (Trajectory).\n",
      "INFO:panda:Initializing motion generation (moveToPose).\n",
      "INFO:motion:Computed Cartesian trajectory: 1 waypoint, duration 0.23 seconds.\n",
      "INFO:panda:Starting new controller (Trajectory).\n"
     ]
    },
    {
     "name": "stdout",
     "output_type": "stream",
     "text": [
      "Saved ./hand_in_eye/rgb/67.png\n",
      "Saved ./hand_in_eye/depth/67.npy\n",
      "Saved pose to ./hand_in_eye/poses/pose_67.npy\n"
     ]
    },
    {
     "name": "stderr",
     "output_type": "stream",
     "text": [
      "INFO:panda:Stopping active controller (Trajectory).\n",
      "INFO:panda:Initializing motion generation (moveToPose).\n",
      "INFO:motion:Computed Cartesian trajectory: 1 waypoint, duration 0.19 seconds.\n",
      "INFO:panda:Starting new controller (Trajectory).\n"
     ]
    },
    {
     "name": "stdout",
     "output_type": "stream",
     "text": [
      "Saved ./hand_in_eye/rgb/68.png\n",
      "Saved ./hand_in_eye/depth/68.npy\n",
      "Saved pose to ./hand_in_eye/poses/pose_68.npy\n"
     ]
    },
    {
     "name": "stderr",
     "output_type": "stream",
     "text": [
      "INFO:panda:Stopping active controller (Trajectory).\n",
      "INFO:panda:Initializing motion generation (moveToPose).\n",
      "INFO:motion:Computed Cartesian trajectory: 1 waypoint, duration 0.18 seconds.\n",
      "INFO:panda:Starting new controller (Trajectory).\n"
     ]
    },
    {
     "name": "stdout",
     "output_type": "stream",
     "text": [
      "Saved ./hand_in_eye/rgb/69.png\n",
      "Saved ./hand_in_eye/depth/69.npy\n",
      "Saved pose to ./hand_in_eye/poses/pose_69.npy\n"
     ]
    },
    {
     "name": "stderr",
     "output_type": "stream",
     "text": [
      "INFO:panda:Stopping active controller (Trajectory).\n",
      "INFO:panda:Initializing motion generation (moveToPose).\n",
      "INFO:motion:Computed Cartesian trajectory: 1 waypoint, duration 0.19 seconds.\n",
      "INFO:panda:Starting new controller (Trajectory).\n"
     ]
    },
    {
     "name": "stdout",
     "output_type": "stream",
     "text": [
      "Saved ./hand_in_eye/rgb/70.png\n",
      "Saved ./hand_in_eye/depth/70.npy\n",
      "Saved pose to ./hand_in_eye/poses/pose_70.npy\n"
     ]
    },
    {
     "name": "stderr",
     "output_type": "stream",
     "text": [
      "INFO:panda:Stopping active controller (Trajectory).\n",
      "INFO:panda:Initializing motion generation (moveToPose).\n",
      "INFO:motion:Computed Cartesian trajectory: 1 waypoint, duration 0.21 seconds.\n",
      "INFO:panda:Starting new controller (Trajectory).\n"
     ]
    },
    {
     "name": "stdout",
     "output_type": "stream",
     "text": [
      "Saved ./hand_in_eye/rgb/71.png\n",
      "Saved ./hand_in_eye/depth/71.npy\n",
      "Saved pose to ./hand_in_eye/poses/pose_71.npy\n"
     ]
    },
    {
     "name": "stderr",
     "output_type": "stream",
     "text": [
      "INFO:panda:Stopping active controller (Trajectory).\n",
      "INFO:panda:Initializing motion generation (moveToPose).\n",
      "INFO:motion:Computed Cartesian trajectory: 1 waypoint, duration 0.18 seconds.\n",
      "INFO:panda:Starting new controller (Trajectory).\n"
     ]
    },
    {
     "name": "stdout",
     "output_type": "stream",
     "text": [
      "Saved ./hand_in_eye/rgb/72.png\n",
      "Saved ./hand_in_eye/depth/72.npy\n",
      "Saved pose to ./hand_in_eye/poses/pose_72.npy\n"
     ]
    },
    {
     "name": "stderr",
     "output_type": "stream",
     "text": [
      "INFO:panda:Stopping active controller (Trajectory).\n",
      "INFO:panda:Initializing motion generation (moveToPose).\n",
      "INFO:motion:Computed Cartesian trajectory: 1 waypoint, duration 0.12 seconds.\n",
      "INFO:panda:Starting new controller (Trajectory).\n"
     ]
    },
    {
     "name": "stdout",
     "output_type": "stream",
     "text": [
      "Saved ./hand_in_eye/rgb/73.png\n",
      "Saved ./hand_in_eye/depth/73.npy\n",
      "Saved pose to ./hand_in_eye/poses/pose_73.npy\n"
     ]
    },
    {
     "name": "stderr",
     "output_type": "stream",
     "text": [
      "ERROR:panda:Control loop interruped: Motion finished commanded, but the robot is still moving! [\"joint_motion_generator_acceleration_discontinuity\"]\n",
      "control_command_success_rate: 1\n",
      "INFO:panda:Stopping active controller (Trajectory).\n",
      "WARNING:panda:Irregular state detected. Attempting automatic error recovery.\n",
      "INFO:panda:Initializing motion generation (moveToPose).\n",
      "INFO:motion:Computed Cartesian trajectory: 1 waypoint, duration 0.25 seconds.\n",
      "INFO:panda:Starting new controller (Trajectory).\n"
     ]
    },
    {
     "name": "stdout",
     "output_type": "stream",
     "text": [
      "Saved ./hand_in_eye/rgb/74.png\n",
      "Saved ./hand_in_eye/depth/74.npy\n",
      "Saved pose to ./hand_in_eye/poses/pose_74.npy\n"
     ]
    },
    {
     "name": "stderr",
     "output_type": "stream",
     "text": [
      "INFO:panda:Stopping active controller (Trajectory).\n",
      "INFO:panda:Initializing motion generation (moveToPose).\n",
      "INFO:motion:Computed Cartesian trajectory: 1 waypoint, duration 0.21 seconds.\n",
      "INFO:panda:Starting new controller (Trajectory).\n"
     ]
    },
    {
     "name": "stdout",
     "output_type": "stream",
     "text": [
      "Saved ./hand_in_eye/rgb/75.png\n",
      "Saved ./hand_in_eye/depth/75.npy\n",
      "Saved pose to ./hand_in_eye/poses/pose_75.npy\n"
     ]
    },
    {
     "name": "stderr",
     "output_type": "stream",
     "text": [
      "INFO:panda:Stopping active controller (Trajectory).\n",
      "INFO:panda:Initializing motion generation (moveToPose).\n",
      "INFO:motion:Computed Cartesian trajectory: 1 waypoint, duration 0.28 seconds.\n",
      "INFO:panda:Starting new controller (Trajectory).\n"
     ]
    },
    {
     "name": "stdout",
     "output_type": "stream",
     "text": [
      "Saved ./hand_in_eye/rgb/76.png\n",
      "Saved ./hand_in_eye/depth/76.npy\n",
      "Saved pose to ./hand_in_eye/poses/pose_76.npy\n"
     ]
    },
    {
     "name": "stderr",
     "output_type": "stream",
     "text": [
      "INFO:panda:Stopping active controller (Trajectory).\n",
      "INFO:panda:Initializing motion generation (moveToPose).\n",
      "INFO:motion:Computed Cartesian trajectory: 1 waypoint, duration 0.21 seconds.\n",
      "INFO:panda:Starting new controller (Trajectory).\n"
     ]
    },
    {
     "name": "stdout",
     "output_type": "stream",
     "text": [
      "Saved ./hand_in_eye/rgb/77.png\n",
      "Saved ./hand_in_eye/depth/77.npy\n",
      "Saved pose to ./hand_in_eye/poses/pose_77.npy\n"
     ]
    },
    {
     "name": "stderr",
     "output_type": "stream",
     "text": [
      "INFO:panda:Stopping active controller (Trajectory).\n",
      "INFO:panda:Initializing motion generation (moveToPose).\n",
      "INFO:motion:Computed Cartesian trajectory: 1 waypoint, duration 0.26 seconds.\n",
      "INFO:panda:Starting new controller (Trajectory).\n"
     ]
    },
    {
     "name": "stdout",
     "output_type": "stream",
     "text": [
      "Saved ./hand_in_eye/rgb/78.png\n",
      "Saved ./hand_in_eye/depth/78.npy\n",
      "Saved pose to ./hand_in_eye/poses/pose_78.npy\n"
     ]
    },
    {
     "name": "stderr",
     "output_type": "stream",
     "text": [
      "INFO:panda:Stopping active controller (Trajectory).\n",
      "INFO:panda:Initializing motion generation (moveToPose).\n",
      "INFO:motion:Computed Cartesian trajectory: 1 waypoint, duration 0.17 seconds.\n",
      "INFO:panda:Starting new controller (Trajectory).\n"
     ]
    },
    {
     "name": "stdout",
     "output_type": "stream",
     "text": [
      "Saved ./hand_in_eye/rgb/79.png\n",
      "Saved ./hand_in_eye/depth/79.npy\n",
      "Saved pose to ./hand_in_eye/poses/pose_79.npy\n"
     ]
    },
    {
     "name": "stderr",
     "output_type": "stream",
     "text": [
      "INFO:panda:Stopping active controller (Trajectory).\n",
      "INFO:panda:Initializing motion generation (moveToPose).\n",
      "INFO:motion:Computed Cartesian trajectory: 1 waypoint, duration 0.25 seconds.\n",
      "INFO:panda:Starting new controller (Trajectory).\n"
     ]
    },
    {
     "name": "stdout",
     "output_type": "stream",
     "text": [
      "Saved ./hand_in_eye/rgb/80.png\n",
      "Saved ./hand_in_eye/depth/80.npy\n",
      "Saved pose to ./hand_in_eye/poses/pose_80.npy\n"
     ]
    },
    {
     "name": "stderr",
     "output_type": "stream",
     "text": [
      "INFO:panda:Stopping active controller (Trajectory).\n",
      "INFO:panda:Initializing motion generation (moveToPose).\n",
      "INFO:motion:Computed Cartesian trajectory: 1 waypoint, duration 0.24 seconds.\n",
      "INFO:panda:Starting new controller (Trajectory).\n"
     ]
    },
    {
     "name": "stdout",
     "output_type": "stream",
     "text": [
      "Saved ./hand_in_eye/rgb/81.png\n",
      "Saved ./hand_in_eye/depth/81.npy\n",
      "Saved pose to ./hand_in_eye/poses/pose_81.npy\n"
     ]
    },
    {
     "name": "stderr",
     "output_type": "stream",
     "text": [
      "INFO:panda:Stopping active controller (Trajectory).\n",
      "INFO:panda:Initializing motion generation (moveToPose).\n",
      "INFO:motion:Computed Cartesian trajectory: 1 waypoint, duration 0.16 seconds.\n",
      "INFO:panda:Starting new controller (Trajectory).\n"
     ]
    },
    {
     "name": "stdout",
     "output_type": "stream",
     "text": [
      "Saved ./hand_in_eye/rgb/82.png\n",
      "Saved ./hand_in_eye/depth/82.npy\n",
      "Saved pose to ./hand_in_eye/poses/pose_82.npy\n"
     ]
    },
    {
     "name": "stderr",
     "output_type": "stream",
     "text": [
      "INFO:panda:Stopping active controller (Trajectory).\n",
      "INFO:panda:Initializing motion generation (moveToPose).\n",
      "INFO:motion:Computed Cartesian trajectory: 1 waypoint, duration 0.36 seconds.\n",
      "INFO:panda:Starting new controller (Trajectory).\n"
     ]
    },
    {
     "name": "stdout",
     "output_type": "stream",
     "text": [
      "Saved ./hand_in_eye/rgb/83.png\n",
      "Saved ./hand_in_eye/depth/83.npy\n",
      "Saved pose to ./hand_in_eye/poses/pose_83.npy\n"
     ]
    },
    {
     "name": "stderr",
     "output_type": "stream",
     "text": [
      "INFO:panda:Stopping active controller (Trajectory).\n",
      "INFO:panda:Initializing motion generation (moveToPose).\n",
      "INFO:motion:Computed Cartesian trajectory: 1 waypoint, duration 0.25 seconds.\n",
      "INFO:panda:Starting new controller (Trajectory).\n"
     ]
    },
    {
     "name": "stdout",
     "output_type": "stream",
     "text": [
      "Saved ./hand_in_eye/rgb/84.png\n",
      "Saved ./hand_in_eye/depth/84.npy\n",
      "Saved pose to ./hand_in_eye/poses/pose_84.npy\n"
     ]
    },
    {
     "name": "stderr",
     "output_type": "stream",
     "text": [
      "INFO:panda:Stopping active controller (Trajectory).\n",
      "INFO:panda:Initializing motion generation (moveToPose).\n",
      "INFO:motion:Computed Cartesian trajectory: 1 waypoint, duration 0.19 seconds.\n",
      "INFO:panda:Starting new controller (Trajectory).\n"
     ]
    },
    {
     "name": "stdout",
     "output_type": "stream",
     "text": [
      "Saved ./hand_in_eye/rgb/85.png\n",
      "Saved ./hand_in_eye/depth/85.npy\n",
      "Saved pose to ./hand_in_eye/poses/pose_85.npy\n"
     ]
    },
    {
     "name": "stderr",
     "output_type": "stream",
     "text": [
      "INFO:panda:Stopping active controller (Trajectory).\n",
      "INFO:panda:Initializing motion generation (moveToPose).\n",
      "INFO:motion:Computed Cartesian trajectory: 1 waypoint, duration 0.20 seconds.\n",
      "INFO:panda:Starting new controller (Trajectory).\n"
     ]
    },
    {
     "name": "stdout",
     "output_type": "stream",
     "text": [
      "Saved ./hand_in_eye/rgb/86.png\n",
      "Saved ./hand_in_eye/depth/86.npy\n",
      "Saved pose to ./hand_in_eye/poses/pose_86.npy\n"
     ]
    },
    {
     "name": "stderr",
     "output_type": "stream",
     "text": [
      "INFO:panda:Stopping active controller (Trajectory).\n",
      "INFO:panda:Initializing motion generation (moveToPose).\n",
      "INFO:motion:Computed Cartesian trajectory: 1 waypoint, duration 0.25 seconds.\n",
      "INFO:panda:Starting new controller (Trajectory).\n"
     ]
    },
    {
     "name": "stdout",
     "output_type": "stream",
     "text": [
      "Saved ./hand_in_eye/rgb/87.png\n",
      "Saved ./hand_in_eye/depth/87.npy\n",
      "Saved pose to ./hand_in_eye/poses/pose_87.npy\n"
     ]
    },
    {
     "name": "stderr",
     "output_type": "stream",
     "text": [
      "INFO:panda:Stopping active controller (Trajectory).\n",
      "INFO:panda:Initializing motion generation (moveToPose).\n",
      "INFO:motion:Computed Cartesian trajectory: 1 waypoint, duration 0.20 seconds.\n",
      "INFO:panda:Starting new controller (Trajectory).\n"
     ]
    },
    {
     "name": "stdout",
     "output_type": "stream",
     "text": [
      "Saved ./hand_in_eye/rgb/88.png\n",
      "Saved ./hand_in_eye/depth/88.npy\n",
      "Saved pose to ./hand_in_eye/poses/pose_88.npy\n"
     ]
    },
    {
     "name": "stderr",
     "output_type": "stream",
     "text": [
      "INFO:panda:Stopping active controller (Trajectory).\n",
      "INFO:panda:Initializing motion generation (moveToJointPosition).\n",
      "INFO:motion:Computed joint trajectory: 1 waypoint, duration 2.83 seconds.\n",
      "INFO:panda:Starting new controller (Trajectory).\n"
     ]
    },
    {
     "name": "stdout",
     "output_type": "stream",
     "text": [
      "Saved ./hand_in_eye/rgb/89.png\n",
      "Saved ./hand_in_eye/depth/89.npy\n",
      "Saved pose to ./hand_in_eye/poses/pose_89.npy\n"
     ]
    },
    {
     "name": "stderr",
     "output_type": "stream",
     "text": [
      "INFO:panda:Stopping active controller (Trajectory).\n",
      "INFO:panda:Initializing motion generation (moveToPose).\n",
      "INFO:motion:Computed Cartesian trajectory: 1 waypoint, duration 0.89 seconds.\n",
      "INFO:panda:Starting new controller (Trajectory).\n",
      "ERROR:panda:Control loop interruped: Motion finished commanded, but the robot is still moving! [\"joint_motion_generator_velocity_discontinuity\", \"joint_motion_generator_acceleration_discontinuity\"]\n",
      "control_command_success_rate: 1\n",
      "INFO:panda:Stopping active controller (Trajectory).\n",
      "WARNING:panda:Irregular state detected. Attempting automatic error recovery.\n",
      "INFO:panda:Initializing motion generation (moveToPose).\n",
      "INFO:motion:Computed Cartesian trajectory: 1 waypoint, duration 0.21 seconds.\n",
      "INFO:panda:Starting new controller (Trajectory).\n"
     ]
    },
    {
     "name": "stdout",
     "output_type": "stream",
     "text": [
      "Saved ./hand_in_eye/rgb/90.png\n",
      "Saved ./hand_in_eye/depth/90.npy\n",
      "Saved pose to ./hand_in_eye/poses/pose_90.npy\n"
     ]
    },
    {
     "name": "stderr",
     "output_type": "stream",
     "text": [
      "INFO:panda:Stopping active controller (Trajectory).\n",
      "INFO:panda:Initializing motion generation (moveToPose).\n",
      "INFO:motion:Computed Cartesian trajectory: 1 waypoint, duration 0.27 seconds.\n",
      "INFO:panda:Starting new controller (Trajectory).\n"
     ]
    },
    {
     "name": "stdout",
     "output_type": "stream",
     "text": [
      "Saved ./hand_in_eye/rgb/91.png\n",
      "Saved ./hand_in_eye/depth/91.npy\n",
      "Saved pose to ./hand_in_eye/poses/pose_91.npy\n"
     ]
    },
    {
     "name": "stderr",
     "output_type": "stream",
     "text": [
      "INFO:panda:Stopping active controller (Trajectory).\n",
      "INFO:panda:Initializing motion generation (moveToPose).\n",
      "INFO:motion:Computed Cartesian trajectory: 1 waypoint, duration 0.19 seconds.\n",
      "INFO:panda:Starting new controller (Trajectory).\n"
     ]
    },
    {
     "name": "stdout",
     "output_type": "stream",
     "text": [
      "Saved ./hand_in_eye/rgb/92.png\n",
      "Saved ./hand_in_eye/depth/92.npy\n",
      "Saved pose to ./hand_in_eye/poses/pose_92.npy\n"
     ]
    },
    {
     "name": "stderr",
     "output_type": "stream",
     "text": [
      "INFO:panda:Stopping active controller (Trajectory).\n",
      "INFO:panda:Initializing motion generation (moveToPose).\n",
      "INFO:motion:Computed Cartesian trajectory: 1 waypoint, duration 0.23 seconds.\n",
      "INFO:panda:Starting new controller (Trajectory).\n"
     ]
    },
    {
     "name": "stdout",
     "output_type": "stream",
     "text": [
      "Saved ./hand_in_eye/rgb/93.png\n",
      "Saved ./hand_in_eye/depth/93.npy\n",
      "Saved pose to ./hand_in_eye/poses/pose_93.npy\n"
     ]
    },
    {
     "name": "stderr",
     "output_type": "stream",
     "text": [
      "INFO:panda:Stopping active controller (Trajectory).\n",
      "INFO:panda:Initializing motion generation (moveToPose).\n",
      "INFO:motion:Computed Cartesian trajectory: 1 waypoint, duration 0.22 seconds.\n",
      "INFO:panda:Starting new controller (Trajectory).\n"
     ]
    },
    {
     "name": "stdout",
     "output_type": "stream",
     "text": [
      "Saved ./hand_in_eye/rgb/94.png\n",
      "Saved ./hand_in_eye/depth/94.npy\n",
      "Saved pose to ./hand_in_eye/poses/pose_94.npy\n"
     ]
    },
    {
     "name": "stderr",
     "output_type": "stream",
     "text": [
      "INFO:panda:Stopping active controller (Trajectory).\n",
      "INFO:panda:Initializing motion generation (moveToPose).\n",
      "INFO:motion:Computed Cartesian trajectory: 1 waypoint, duration 0.23 seconds.\n",
      "INFO:panda:Starting new controller (Trajectory).\n"
     ]
    },
    {
     "name": "stdout",
     "output_type": "stream",
     "text": [
      "Saved ./hand_in_eye/rgb/95.png\n",
      "Saved ./hand_in_eye/depth/95.npy\n",
      "Saved pose to ./hand_in_eye/poses/pose_95.npy\n"
     ]
    },
    {
     "name": "stderr",
     "output_type": "stream",
     "text": [
      "INFO:panda:Stopping active controller (Trajectory).\n",
      "INFO:panda:Initializing motion generation (moveToPose).\n",
      "INFO:motion:Computed Cartesian trajectory: 1 waypoint, duration 0.16 seconds.\n",
      "INFO:panda:Starting new controller (Trajectory).\n"
     ]
    },
    {
     "name": "stdout",
     "output_type": "stream",
     "text": [
      "Saved ./hand_in_eye/rgb/96.png\n",
      "Saved ./hand_in_eye/depth/96.npy\n",
      "Saved pose to ./hand_in_eye/poses/pose_96.npy\n"
     ]
    },
    {
     "name": "stderr",
     "output_type": "stream",
     "text": [
      "INFO:panda:Stopping active controller (Trajectory).\n",
      "INFO:panda:Initializing motion generation (moveToPose).\n",
      "INFO:motion:Computed Cartesian trajectory: 1 waypoint, duration 0.26 seconds.\n",
      "INFO:panda:Starting new controller (Trajectory).\n"
     ]
    },
    {
     "name": "stdout",
     "output_type": "stream",
     "text": [
      "Saved ./hand_in_eye/rgb/97.png\n",
      "Saved ./hand_in_eye/depth/97.npy\n",
      "Saved pose to ./hand_in_eye/poses/pose_97.npy\n"
     ]
    },
    {
     "name": "stderr",
     "output_type": "stream",
     "text": [
      "INFO:panda:Stopping active controller (Trajectory).\n",
      "INFO:panda:Initializing motion generation (moveToPose).\n",
      "INFO:motion:Computed Cartesian trajectory: 1 waypoint, duration 0.25 seconds.\n",
      "INFO:panda:Starting new controller (Trajectory).\n"
     ]
    },
    {
     "name": "stdout",
     "output_type": "stream",
     "text": [
      "Saved ./hand_in_eye/rgb/98.png\n",
      "Saved ./hand_in_eye/depth/98.npy\n",
      "Saved pose to ./hand_in_eye/poses/pose_98.npy\n"
     ]
    },
    {
     "name": "stderr",
     "output_type": "stream",
     "text": [
      "INFO:panda:Stopping active controller (Trajectory).\n",
      "INFO:panda:Initializing motion generation (moveToPose).\n",
      "INFO:motion:Computed Cartesian trajectory: 1 waypoint, duration 0.13 seconds.\n",
      "INFO:panda:Starting new controller (Trajectory).\n"
     ]
    },
    {
     "name": "stdout",
     "output_type": "stream",
     "text": [
      "Saved ./hand_in_eye/rgb/99.png\n",
      "Saved ./hand_in_eye/depth/99.npy\n",
      "Saved pose to ./hand_in_eye/poses/pose_99.npy\n"
     ]
    },
    {
     "name": "stderr",
     "output_type": "stream",
     "text": [
      "INFO:panda:Stopping active controller (Trajectory).\n",
      "INFO:panda:Initializing motion generation (moveToPose).\n",
      "INFO:motion:Computed Cartesian trajectory: 1 waypoint, duration 0.20 seconds.\n",
      "INFO:panda:Starting new controller (Trajectory).\n"
     ]
    },
    {
     "name": "stdout",
     "output_type": "stream",
     "text": [
      "Saved ./hand_in_eye/rgb/100.png\n",
      "Saved ./hand_in_eye/depth/100.npy\n",
      "Saved pose to ./hand_in_eye/poses/pose_100.npy\n"
     ]
    },
    {
     "name": "stderr",
     "output_type": "stream",
     "text": [
      "INFO:panda:Stopping active controller (Trajectory).\n",
      "INFO:panda:Initializing motion generation (moveToPose).\n",
      "INFO:motion:Computed Cartesian trajectory: 1 waypoint, duration 0.11 seconds.\n",
      "INFO:panda:Starting new controller (Trajectory).\n"
     ]
    },
    {
     "name": "stdout",
     "output_type": "stream",
     "text": [
      "Saved ./hand_in_eye/rgb/101.png\n",
      "Saved ./hand_in_eye/depth/101.npy\n",
      "Saved pose to ./hand_in_eye/poses/pose_101.npy\n"
     ]
    },
    {
     "name": "stderr",
     "output_type": "stream",
     "text": [
      "INFO:panda:Stopping active controller (Trajectory).\n",
      "INFO:panda:Initializing motion generation (moveToPose).\n",
      "INFO:motion:Computed Cartesian trajectory: 1 waypoint, duration 0.19 seconds.\n",
      "INFO:panda:Starting new controller (Trajectory).\n"
     ]
    },
    {
     "name": "stdout",
     "output_type": "stream",
     "text": [
      "Saved ./hand_in_eye/rgb/102.png\n",
      "Saved ./hand_in_eye/depth/102.npy\n",
      "Saved pose to ./hand_in_eye/poses/pose_102.npy\n"
     ]
    },
    {
     "name": "stderr",
     "output_type": "stream",
     "text": [
      "INFO:panda:Stopping active controller (Trajectory).\n",
      "INFO:panda:Initializing motion generation (moveToPose).\n",
      "INFO:motion:Computed Cartesian trajectory: 1 waypoint, duration 0.22 seconds.\n",
      "INFO:panda:Starting new controller (Trajectory).\n"
     ]
    },
    {
     "name": "stdout",
     "output_type": "stream",
     "text": [
      "Saved ./hand_in_eye/rgb/103.png\n",
      "Saved ./hand_in_eye/depth/103.npy\n",
      "Saved pose to ./hand_in_eye/poses/pose_103.npy\n"
     ]
    },
    {
     "name": "stderr",
     "output_type": "stream",
     "text": [
      "INFO:panda:Stopping active controller (Trajectory).\n",
      "INFO:panda:Initializing motion generation (moveToPose).\n",
      "INFO:motion:Computed Cartesian trajectory: 1 waypoint, duration 0.20 seconds.\n",
      "INFO:panda:Starting new controller (Trajectory).\n"
     ]
    },
    {
     "name": "stdout",
     "output_type": "stream",
     "text": [
      "Saved ./hand_in_eye/rgb/104.png\n",
      "Saved ./hand_in_eye/depth/104.npy\n",
      "Saved pose to ./hand_in_eye/poses/pose_104.npy\n"
     ]
    },
    {
     "name": "stderr",
     "output_type": "stream",
     "text": [
      "INFO:panda:Stopping active controller (Trajectory).\n",
      "INFO:panda:Initializing motion generation (moveToPose).\n",
      "INFO:motion:Computed Cartesian trajectory: 1 waypoint, duration 0.17 seconds.\n",
      "INFO:panda:Starting new controller (Trajectory).\n"
     ]
    },
    {
     "name": "stdout",
     "output_type": "stream",
     "text": [
      "Saved ./hand_in_eye/rgb/105.png\n",
      "Saved ./hand_in_eye/depth/105.npy\n",
      "Saved pose to ./hand_in_eye/poses/pose_105.npy\n"
     ]
    },
    {
     "name": "stderr",
     "output_type": "stream",
     "text": [
      "INFO:panda:Stopping active controller (Trajectory).\n",
      "INFO:panda:Initializing motion generation (moveToPose).\n",
      "INFO:motion:Computed Cartesian trajectory: 1 waypoint, duration 0.33 seconds.\n",
      "INFO:panda:Starting new controller (Trajectory).\n"
     ]
    },
    {
     "name": "stdout",
     "output_type": "stream",
     "text": [
      "Saved ./hand_in_eye/rgb/106.png\n",
      "Saved ./hand_in_eye/depth/106.npy\n",
      "Saved pose to ./hand_in_eye/poses/pose_106.npy\n"
     ]
    },
    {
     "name": "stderr",
     "output_type": "stream",
     "text": [
      "INFO:panda:Stopping active controller (Trajectory).\n",
      "INFO:panda:Initializing motion generation (moveToPose).\n",
      "INFO:motion:Computed Cartesian trajectory: 1 waypoint, duration 0.16 seconds.\n",
      "INFO:panda:Starting new controller (Trajectory).\n"
     ]
    },
    {
     "name": "stdout",
     "output_type": "stream",
     "text": [
      "Saved ./hand_in_eye/rgb/107.png\n",
      "Saved ./hand_in_eye/depth/107.npy\n",
      "Saved pose to ./hand_in_eye/poses/pose_107.npy\n"
     ]
    },
    {
     "name": "stderr",
     "output_type": "stream",
     "text": [
      "INFO:panda:Stopping active controller (Trajectory).\n",
      "INFO:panda:Initializing motion generation (moveToPose).\n",
      "INFO:motion:Computed Cartesian trajectory: 1 waypoint, duration 0.25 seconds.\n",
      "INFO:panda:Starting new controller (Trajectory).\n"
     ]
    },
    {
     "name": "stdout",
     "output_type": "stream",
     "text": [
      "Saved ./hand_in_eye/rgb/108.png\n",
      "Saved ./hand_in_eye/depth/108.npy\n",
      "Saved pose to ./hand_in_eye/poses/pose_108.npy\n"
     ]
    },
    {
     "name": "stderr",
     "output_type": "stream",
     "text": [
      "INFO:panda:Stopping active controller (Trajectory).\n",
      "INFO:panda:Initializing motion generation (moveToPose).\n",
      "INFO:motion:Computed Cartesian trajectory: 1 waypoint, duration 0.32 seconds.\n",
      "INFO:panda:Starting new controller (Trajectory).\n"
     ]
    },
    {
     "name": "stdout",
     "output_type": "stream",
     "text": [
      "Saved ./hand_in_eye/rgb/109.png\n",
      "Saved ./hand_in_eye/depth/109.npy\n",
      "Saved pose to ./hand_in_eye/poses/pose_109.npy\n"
     ]
    },
    {
     "name": "stderr",
     "output_type": "stream",
     "text": [
      "INFO:panda:Stopping active controller (Trajectory).\n",
      "INFO:panda:Initializing motion generation (moveToPose).\n",
      "INFO:motion:Computed Cartesian trajectory: 1 waypoint, duration 0.20 seconds.\n",
      "INFO:panda:Starting new controller (Trajectory).\n"
     ]
    },
    {
     "name": "stdout",
     "output_type": "stream",
     "text": [
      "Saved ./hand_in_eye/rgb/110.png\n",
      "Saved ./hand_in_eye/depth/110.npy\n",
      "Saved pose to ./hand_in_eye/poses/pose_110.npy\n"
     ]
    },
    {
     "name": "stderr",
     "output_type": "stream",
     "text": [
      "INFO:panda:Stopping active controller (Trajectory).\n",
      "INFO:panda:Initializing motion generation (moveToPose).\n",
      "INFO:motion:Computed Cartesian trajectory: 1 waypoint, duration 0.16 seconds.\n",
      "INFO:panda:Starting new controller (Trajectory).\n"
     ]
    },
    {
     "name": "stdout",
     "output_type": "stream",
     "text": [
      "Saved ./hand_in_eye/rgb/111.png\n",
      "Saved ./hand_in_eye/depth/111.npy\n",
      "Saved pose to ./hand_in_eye/poses/pose_111.npy\n"
     ]
    },
    {
     "name": "stderr",
     "output_type": "stream",
     "text": [
      "ERROR:panda:Control loop interruped: Motion finished commanded, but the robot is still moving! [\"joint_motion_generator_acceleration_discontinuity\"]\n",
      "control_command_success_rate: 1\n",
      "INFO:panda:Stopping active controller (Trajectory).\n",
      "WARNING:panda:Irregular state detected. Attempting automatic error recovery.\n",
      "INFO:panda:Initializing motion generation (moveToPose).\n",
      "INFO:motion:Computed Cartesian trajectory: 1 waypoint, duration 0.28 seconds.\n",
      "INFO:panda:Starting new controller (Trajectory).\n"
     ]
    },
    {
     "name": "stdout",
     "output_type": "stream",
     "text": [
      "Saved ./hand_in_eye/rgb/112.png\n",
      "Saved ./hand_in_eye/depth/112.npy\n",
      "Saved pose to ./hand_in_eye/poses/pose_112.npy\n"
     ]
    },
    {
     "name": "stderr",
     "output_type": "stream",
     "text": [
      "INFO:panda:Stopping active controller (Trajectory).\n",
      "INFO:panda:Initializing motion generation (moveToPose).\n",
      "INFO:motion:Computed Cartesian trajectory: 1 waypoint, duration 0.27 seconds.\n",
      "INFO:panda:Starting new controller (Trajectory).\n"
     ]
    },
    {
     "name": "stdout",
     "output_type": "stream",
     "text": [
      "Saved ./hand_in_eye/rgb/113.png\n",
      "Saved ./hand_in_eye/depth/113.npy\n",
      "Saved pose to ./hand_in_eye/poses/pose_113.npy\n"
     ]
    },
    {
     "name": "stderr",
     "output_type": "stream",
     "text": [
      "INFO:panda:Stopping active controller (Trajectory).\n",
      "INFO:panda:Initializing motion generation (moveToPose).\n",
      "INFO:motion:Computed Cartesian trajectory: 1 waypoint, duration 0.26 seconds.\n",
      "INFO:panda:Starting new controller (Trajectory).\n"
     ]
    },
    {
     "name": "stdout",
     "output_type": "stream",
     "text": [
      "Saved ./hand_in_eye/rgb/114.png\n",
      "Saved ./hand_in_eye/depth/114.npy\n",
      "Saved pose to ./hand_in_eye/poses/pose_114.npy\n"
     ]
    },
    {
     "name": "stderr",
     "output_type": "stream",
     "text": [
      "INFO:panda:Stopping active controller (Trajectory).\n",
      "INFO:panda:Initializing motion generation (moveToPose).\n",
      "INFO:motion:Computed Cartesian trajectory: 1 waypoint, duration 0.22 seconds.\n",
      "INFO:panda:Starting new controller (Trajectory).\n"
     ]
    },
    {
     "name": "stdout",
     "output_type": "stream",
     "text": [
      "Saved ./hand_in_eye/rgb/115.png\n",
      "Saved ./hand_in_eye/depth/115.npy\n",
      "Saved pose to ./hand_in_eye/poses/pose_115.npy\n"
     ]
    },
    {
     "name": "stderr",
     "output_type": "stream",
     "text": [
      "INFO:panda:Stopping active controller (Trajectory).\n",
      "INFO:panda:Initializing motion generation (moveToPose).\n",
      "INFO:motion:Computed Cartesian trajectory: 1 waypoint, duration 0.12 seconds.\n",
      "INFO:panda:Starting new controller (Trajectory).\n"
     ]
    },
    {
     "name": "stdout",
     "output_type": "stream",
     "text": [
      "Saved ./hand_in_eye/rgb/116.png\n",
      "Saved ./hand_in_eye/depth/116.npy\n",
      "Saved pose to ./hand_in_eye/poses/pose_116.npy\n"
     ]
    },
    {
     "name": "stderr",
     "output_type": "stream",
     "text": [
      "INFO:panda:Stopping active controller (Trajectory).\n",
      "INFO:panda:Initializing motion generation (moveToPose).\n",
      "INFO:motion:Computed Cartesian trajectory: 1 waypoint, duration 0.19 seconds.\n",
      "INFO:panda:Starting new controller (Trajectory).\n"
     ]
    },
    {
     "name": "stdout",
     "output_type": "stream",
     "text": [
      "Saved ./hand_in_eye/rgb/117.png\n",
      "Saved ./hand_in_eye/depth/117.npy\n",
      "Saved pose to ./hand_in_eye/poses/pose_117.npy\n"
     ]
    },
    {
     "name": "stderr",
     "output_type": "stream",
     "text": [
      "INFO:panda:Stopping active controller (Trajectory).\n",
      "INFO:panda:Initializing motion generation (moveToPose).\n",
      "INFO:motion:Computed Cartesian trajectory: 1 waypoint, duration 0.17 seconds.\n",
      "INFO:panda:Starting new controller (Trajectory).\n"
     ]
    },
    {
     "name": "stdout",
     "output_type": "stream",
     "text": [
      "Saved ./hand_in_eye/rgb/118.png\n",
      "Saved ./hand_in_eye/depth/118.npy\n",
      "Saved pose to ./hand_in_eye/poses/pose_118.npy\n"
     ]
    },
    {
     "name": "stderr",
     "output_type": "stream",
     "text": [
      "INFO:panda:Stopping active controller (Trajectory).\n",
      "INFO:panda:Initializing motion generation (moveToJointPosition).\n",
      "INFO:motion:Computed joint trajectory: 1 waypoint, duration 2.72 seconds.\n",
      "INFO:panda:Starting new controller (Trajectory).\n"
     ]
    },
    {
     "name": "stdout",
     "output_type": "stream",
     "text": [
      "Saved ./hand_in_eye/rgb/119.png\n",
      "Saved ./hand_in_eye/depth/119.npy\n",
      "Saved pose to ./hand_in_eye/poses/pose_119.npy\n"
     ]
    }
   ],
   "source": [
    "# Define a list of configurations\n",
    "image_configs = [\n",
    "    {\n",
    "        'base_dir': './hand_in_eye',\n",
    "        'init_pose': panda_py.fk(constants.JOINT_POSITION_START),\n",
    "        'roll': 0.0,\n",
    "        'pitch': 0.2,\n",
    "        'yaw': 0.0,\n",
    "        'z_add': 0.16,\n",
    "        'x_add': 0.12,\n",
    "        'y_add': 0.0,\n",
    "        'max_roll_deviation': 0.05,\n",
    "        'max_pitch_deviation': 0.05,\n",
    "        'max_yaw_deviation': 0.05\n",
    "    },\n",
    "    {\n",
    "        'base_dir': './hand_in_eye',\n",
    "        'init_pose': panda_py.fk(constants.JOINT_POSITION_START),\n",
    "        'roll': 0.3,\n",
    "        'pitch': 0.35,\n",
    "        'yaw': 0.0,\n",
    "        'z_add': 0.1,\n",
    "        'x_add': 0.0,\n",
    "        'y_add': -0.25,\n",
    "        'max_roll_deviation': 0.05,\n",
    "        'max_pitch_deviation': 0.05,\n",
    "        'max_yaw_deviation': 0.05\n",
    "    },\n",
    "    {\n",
    "        'base_dir': './hand_in_eye',\n",
    "        'init_pose': panda_py.fk(constants.JOINT_POSITION_START),\n",
    "        'roll': -0.25,\n",
    "        'pitch': 0.35,\n",
    "        'yaw': 0.2,\n",
    "        'z_add': 0.12,\n",
    "        'x_add': 0.1,\n",
    "        'y_add': 0.20,\n",
    "        'max_roll_deviation': 0.05,\n",
    "        'max_pitch_deviation': 0.05,\n",
    "        'max_yaw_deviation': 0.05\n",
    "    },\n",
    "    {\n",
    "        'base_dir': './hand_in_eye',\n",
    "        'init_pose': panda_py.fk(constants.JOINT_POSITION_START),\n",
    "        'roll': -0.25,\n",
    "        'pitch': 0.2,\n",
    "        'yaw': 0.2,\n",
    "        'z_add': 0.20,\n",
    "        'x_add': 0.11,\n",
    "        'y_add': 0.1,\n",
    "        'max_roll_deviation': 0.05,\n",
    "        'max_pitch_deviation': 0.05,\n",
    "        'max_yaw_deviation': 0.05\n",
    "    }\n",
    "]\n",
    "\n",
    "# Iterate over the list of configurations and capture images\n",
    "for i, config in enumerate(image_configs):\n",
    "    capture_images(30*i, 30,config['base_dir'], config['init_pose'], config['roll'], config['pitch'], config['yaw'],\n",
    "                   config['z_add'], config['x_add'], config['y_add'], config['max_roll_deviation'],\n",
    "                   config['max_pitch_deviation'], config['max_yaw_deviation'])"
   ]
  },
  {
   "cell_type": "code",
   "execution_count": null,
   "metadata": {},
   "outputs": [],
   "source": []
  }
 ],
 "metadata": {
  "kernelspec": {
   "display_name": "pypanda",
   "language": "python",
   "name": "python3"
  },
  "language_info": {
   "codemirror_mode": {
    "name": "ipython",
    "version": 3
   },
   "file_extension": ".py",
   "mimetype": "text/x-python",
   "name": "python",
   "nbconvert_exporter": "python",
   "pygments_lexer": "ipython3",
   "version": "3.10.13"
  }
 },
 "nbformat": 4,
 "nbformat_minor": 2
}
