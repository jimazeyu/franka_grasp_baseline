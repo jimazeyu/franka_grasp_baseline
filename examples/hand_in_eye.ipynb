{
 "cells": [
  {
   "cell_type": "code",
   "execution_count": 1,
   "metadata": {},
   "outputs": [
    {
     "name": "stdout",
     "output_type": "stream",
     "text": [
      "Jupyter environment detected. Enabling Open3D WebVisualizer.\n",
      "[Open3D INFO] WebRTC GUI backend enabled.\n",
      "[Open3D INFO] WebRTCWindowSystem: HTTP handshake server disabled.\n"
     ]
    }
   ],
   "source": [
    "import numpy as np\n",
    "import os\n",
    "import sys\n",
    "import open3d as o3d\n",
    "import cv2\n",
    "\n",
    "parent_dir = os.path.dirname(os.getcwd())\n",
    "sys.path.append(parent_dir)\n",
    "\n",
    "from calibration.hand_in_eye import HandinEyeCalibrator\n",
    "from calibration.utils import read_data"
   ]
  },
  {
   "cell_type": "markdown",
   "metadata": {},
   "source": [
    "# Calibration"
   ]
  },
  {
   "cell_type": "code",
   "execution_count": 2,
   "metadata": {},
   "outputs": [
    {
     "name": "stdout",
     "output_type": "stream",
     "text": [
      "40 poses found\n",
      "Camera matrix: [[1.36377332e+03 0.00000000e+00 9.56298462e+02]\n",
      " [0.00000000e+00 1.36157141e+03 5.46581238e+02]\n",
      " [0.00000000e+00 0.00000000e+00 1.00000000e+00]]\n"
     ]
    }
   ],
   "source": [
    "# Read data\n",
    "base_dir = '../hand_in_eye'\n",
    "rgb_list, depth_list, pose_list, camera_matrix = read_data(base_dir)\n",
    "print(f\"{len(rgb_list)} poses found\")\n",
    "print(f'Camera matrix: {camera_matrix}')"
   ]
  },
  {
   "cell_type": "code",
   "execution_count": 3,
   "metadata": {},
   "outputs": [
    {
     "name": "stdout",
     "output_type": "stream",
     "text": [
      "Average Camera to gripper rotation matrix:\n",
      "[[ 0.0687324  -0.93363208 -0.35157787]\n",
      " [ 0.99431219  0.0928481  -0.05217765]\n",
      " [ 0.08135807 -0.34599187  0.93470342]]\n",
      "Average Camera to gripper translation vector:\n",
      "[[ 0.1623917 ]\n",
      " [ 0.0127938 ]\n",
      " [-0.07321238]]\n"
     ]
    }
   ],
   "source": [
    "# Calibrate\n",
    "charuco_dict = cv2.aruco.getPredefinedDictionary(cv2.aruco.DICT_6X6_250)\n",
    "board = cv2.aruco.CharucoBoard((5, 5), 0.08, 0.06, charuco_dict)\n",
    "\n",
    "calibrator = HandinEyeCalibrator(camera_matrix, None, charuco_dict, board)\n",
    "R_cam2gripper_avg, t_cam2gripper_avg = calibrator.perform(rgb_list, pose_list)\n",
    "\n",
    "print(\"Average Camera to gripper rotation matrix:\")\n",
    "print(R_cam2gripper_avg)\n",
    "print(\"Average Camera to gripper translation vector:\")\n",
    "print(t_cam2gripper_avg)"
   ]
  },
  {
   "cell_type": "markdown",
   "metadata": {},
   "source": [
    "# Visualize results"
   ]
  },
  {
   "cell_type": "code",
   "execution_count": 4,
   "metadata": {},
   "outputs": [],
   "source": [
    "# visualize coordinates\n",
    "R_avg = R_cam2gripper_avg\n",
    "t_avg = t_cam2gripper_avg\n",
    "\n",
    "R_original = np.eye(3)\n",
    "t_original = np.zeros((3, 1))\n",
    "\n",
    "R_relative = R_avg.copy()\n",
    "t_relative = t_avg.copy()\n",
    "\n",
    "T_original = np.eye(4)\n",
    "T_original[:3, :3] = R_original\n",
    "T_original[:3, 3] = t_original.flatten()\n",
    "\n",
    "T_relative = np.eye(4)\n",
    "T_relative[:3, :3] = R_relative\n",
    "T_relative[:3, 3] = t_relative.flatten()\n",
    "\n",
    "T_transformed = np.dot(T_original, T_relative)\n",
    "\n",
    "mesh_frame_original = o3d.geometry.TriangleMesh.create_coordinate_frame(size=0.6)\n",
    "mesh_frame_transformed = o3d.geometry.TriangleMesh.create_coordinate_frame(size=0.6)\n",
    "\n",
    "mesh_frame_original.transform(T_original)\n",
    "mesh_frame_transformed.transform(T_transformed)\n",
    "\n",
    "o3d.visualization.draw_geometries([mesh_frame_original, mesh_frame_transformed])"
   ]
  },
  {
   "cell_type": "code",
   "execution_count": 5,
   "metadata": {},
   "outputs": [],
   "source": [
    "# visualize pointclouds\n",
    "camera_intrinsic = o3d.camera.PinholeCameraIntrinsic()\n",
    "camera_intrinsic.set_intrinsics(camera_matrix.shape[1], camera_matrix.shape[0],\n",
    "                                camera_matrix[0, 0], camera_matrix[1, 1],\n",
    "                                camera_matrix[0, 2], camera_matrix[1, 2])\n",
    "\n",
    "# Transformation matrix from camera to gripper\n",
    "T_cam_to_gripper = np.eye(4)\n",
    "T_cam_to_gripper[0:3, 0:3] = R_cam2gripper_avg\n",
    "T_cam_to_gripper[0:3, 3] = t_cam2gripper_avg.flatten()\n",
    "\n",
    "combined_pcd = o3d.geometry.PointCloud()\n",
    "\n",
    "# Iterate over all images and add them to the point cloud\n",
    "for i in range(0,len(rgb_list), 4):\n",
    "    rgb_img = rgb_list[i]\n",
    "    depth_img = depth_list[i]\n",
    "    pose_to_base = pose_list[i]\n",
    "\n",
    "    rgbd_image = o3d.geometry.RGBDImage.create_from_color_and_depth(\n",
    "        o3d.geometry.Image(rgb_img),\n",
    "        o3d.geometry.Image(depth_img),\n",
    "        depth_scale=1000.0\n",
    "    )\n",
    "\n",
    "    pcd = o3d.geometry.PointCloud.create_from_rgbd_image(\n",
    "        rgbd_image, camera_intrinsic\n",
    "    )\n",
    "\n",
    "    cam_to_world = pose_to_base @ T_cam_to_gripper\n",
    "    pcd.transform(cam_to_world)\n",
    "\n",
    "    combined_pcd += pcd\n",
    "\n",
    "# Visualize the combined point cloud\n",
    "o3d.visualization.draw_geometries([combined_pcd])"
   ]
  }
 ],
 "metadata": {
  "kernelspec": {
   "display_name": "3dgs_arm",
   "language": "python",
   "name": "python3"
  },
  "language_info": {
   "codemirror_mode": {
    "name": "ipython",
    "version": 3
   },
   "file_extension": ".py",
   "mimetype": "text/x-python",
   "name": "python",
   "nbconvert_exporter": "python",
   "pygments_lexer": "ipython3",
   "version": "3.10.13"
  }
 },
 "nbformat": 4,
 "nbformat_minor": 2
}
